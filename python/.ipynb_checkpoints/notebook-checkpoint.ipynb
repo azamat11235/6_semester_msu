{
 "cells": [
  {
   "cell_type": "markdown",
   "id": "d70aee91",
   "metadata": {},
   "source": [
    "# QR-разложение вращениями Гивенса: Multiprocessing, Numba, mpi4py"
   ]
  },
  {
   "cell_type": "markdown",
   "id": "422c9c81",
   "metadata": {},
   "source": [
    "## 0. Общая часть"
   ]
  },
  {
   "cell_type": "code",
   "execution_count": 1,
   "id": "fb22e174",
   "metadata": {},
   "outputs": [],
   "source": [
    "# %env OMP_NUM_THREADS = 1\n",
    "\n",
    "import numpy as np\n",
    "import scipy.linalg.blas\n",
    "import plotly.graph_objects as go\n",
    "import ctypes\n",
    "import numba\n",
    "import multiprocessing as mp"
   ]
  },
  {
   "cell_type": "code",
   "execution_count": 2,
   "id": "3d426039",
   "metadata": {},
   "outputs": [],
   "source": [
    "def restore_q(q, proc_count): # mp, nb\n",
    "    b_size = 32\n",
    "    m, n = q.shape\n",
    "    res = np.zeros(q.shape)\n",
    "    for i in range(min(m,n)):\n",
    "        res[i, i] = 1\n",
    "    for jb in range(n-1, -1, -b_size):\n",
    "        for ib in range(m-1, -1, -b_size):\n",
    "            for j in range(b_size):\n",
    "                for i in range(b_size):\n",
    "                    row = ib - i\n",
    "                    col = jb - j\n",
    "                    if row > col:\n",
    "                        c = q[row, col]\n",
    "                        s = q[col, row]\n",
    "                        scipy.linalg.blas.drot(res[col], res[row], c, s, overwrite_x=1, overwrite_y=1)\n",
    "    return res\n",
    "\n",
    "def restore_q1(q):\n",
    "    m, n = q.shape\n",
    "    res = np.zeros(q.shape)\n",
    "    for i in range(min(m, n)):\n",
    "        res[i, i] = 1\n",
    "    for j in range(n-1, -1, -1):\n",
    "        for i in range(m-1, j, -1):\n",
    "            c = q[i, j]\n",
    "            s = q[j, i]\n",
    "            scipy.linalg.blas.drot(res[j], res[i], c, -s, offx=j, offy=j, overwrite_x=1, overwrite_y=1)\n",
    "    return res\n",
    "\n",
    "def test(qr_func, restore_q, func_args=None):\n",
    "    eps = 1e-10\n",
    "    m = 128\n",
    "    n = 128\n",
    "    a = np.random.rand(m, n)\n",
    "    if func_args is not None:\n",
    "        q, r = qr_func(a, **func_args)\n",
    "        q = restore_q(q, **func_args)\n",
    "    else:\n",
    "        q, r = qr_func(a)\n",
    "        q = restore_q(q)\n",
    "    for i in range(r.shape[0]):\n",
    "        for j in range(i+1, r.shape[1]):\n",
    "            if (r[j, i] > eps):\n",
    "                return 1\n",
    "    if np.linalg.norm(q@r - a, ord='fro') > eps:\n",
    "        return 2\n",
    "    if np.linalg.norm(q.T@q - np.eye(n, n), ord='fro') > eps:\n",
    "        return 3\n",
    "    return 0\n",
    "\n",
    "def timeit(sizes, qr_func, qr_func_args=None):\n",
    "    times = []\n",
    "    for size in sizes:\n",
    "        a = np.random.rand(size, size)\n",
    "        if qr_func_args is not None:\n",
    "            t = %timeit -o qr_func(a, **qr_func_args)\n",
    "        else:\n",
    "            t = %timeit -o qr_func(a)\n",
    "        times.append(t.average)\n",
    "    return np.asarray(times)"
   ]
  },
  {
   "cell_type": "markdown",
   "id": "d1f400de",
   "metadata": {},
   "source": [
    "## 1. Последовательная версия"
   ]
  },
  {
   "cell_type": "code",
   "execution_count": 3,
   "id": "c9111929",
   "metadata": {},
   "outputs": [],
   "source": [
    "def qr(a):\n",
    "    r = np.copy(a)\n",
    "    q = np.empty(a.shape)\n",
    "    for j in range(r.shape[1]):\n",
    "        for i in range(j+1, r.shape[0]):\n",
    "            c, s = scipy.linalg.blas.drotg(r[j,j], r[i,j])\n",
    "            scipy.linalg.blas.drot(r[j], r[i], c, s, offx=j, offy=j, overwrite_x=1, overwrite_y=1)\n",
    "            q[i, j] = c\n",
    "            q[j, i] = s\n",
    "    return q, r[:r.shape[1]]"
   ]
  },
  {
   "cell_type": "code",
   "execution_count": 4,
   "id": "6b278f06",
   "metadata": {},
   "outputs": [
    {
     "data": {
      "text/plain": [
       "0"
      ]
     },
     "execution_count": 4,
     "metadata": {},
     "output_type": "execute_result"
    }
   ],
   "source": [
    "test(qr, restore_q1)"
   ]
  },
  {
   "cell_type": "code",
   "execution_count": 5,
   "id": "cb8a5f30",
   "metadata": {
    "scrolled": false
   },
   "outputs": [
    {
     "name": "stdout",
     "output_type": "stream",
     "text": [
      "29.5 ms ± 9.13 ms per loop (mean ± std. dev. of 7 runs, 10 loops each)\n",
      "133 ms ± 15.9 ms per loop (mean ± std. dev. of 7 runs, 10 loops each)\n",
      "676 ms ± 203 ms per loop (mean ± std. dev. of 7 runs, 1 loop each)\n",
      "2.73 s ± 525 ms per loop (mean ± std. dev. of 7 runs, 1 loop each)\n",
      "13.5 s ± 2.36 s per loop (mean ± std. dev. of 7 runs, 1 loop each)\n"
     ]
    }
   ],
   "source": [
    "sizes = [128, 256, 512, 1024, 2048]\n",
    "res1 = timeit(sizes, qr)"
   ]
  },
  {
   "cell_type": "markdown",
   "id": "563031d9",
   "metadata": {},
   "source": [
    "## 2. Multiprocessing"
   ]
  },
  {
   "cell_type": "code",
   "execution_count": 6,
   "id": "47fb85b7",
   "metadata": {},
   "outputs": [],
   "source": [
    "def qr_mp(a, proc_count):\n",
    "    b_size = 32\n",
    "    m, n = a.shape\n",
    "    \n",
    "    q_shared = mp.Array(ctypes.c_double, m*n, lock=False)\n",
    "    r_shared = mp.Array(ctypes.c_double, m*n, lock=False)\n",
    "    q = np.frombuffer(q_shared, dtype=np.float64).reshape(m, n)\n",
    "    r = np.frombuffer(r_shared, dtype=np.float64).reshape(m, n)\n",
    "    for i in range(m):\n",
    "        r[i] = a[i]\n",
    "\n",
    "    queue = mp.JoinableQueue()\n",
    "    workers = []\n",
    "    for i in range(proc_count):\n",
    "        worker = mp.Process(target = upd_row,\n",
    "                            args = (r, q, r.shape, b_size, queue)) ##\n",
    "        workers.append(worker)\n",
    "        worker.start()\n",
    "    \n",
    "    for j in range(0, n, b_size):\n",
    "        for i in range(j, m, b_size): # обнуление\n",
    "            for jj in range(b_size):\n",
    "                for ii in range(b_size):\n",
    "                    row = i + ii\n",
    "                    col = j + jj\n",
    "                    if row > col:\n",
    "                        r0, r1 = r[col, col], r[row, col]\n",
    "                        c, s = scipy.linalg.blas.drotg(r0, r1)\n",
    "                        scipy.linalg.blas.drot(r[col, col:j+b_size], r[row, col:j+b_size], c, s, overwrite_x=1, overwrite_y=1)\n",
    "                        q[row, col] = c\n",
    "                        q[col, row] = -s\n",
    "        \n",
    "        for j1 in numba.prange(1, (n-j)//b_size): # обновление\n",
    "            queue.put((j, j1))\n",
    "        queue.join()\n",
    "                                \n",
    "    for i in range(proc_count):\n",
    "        queue.put(None)\n",
    "    queue.join()\n",
    "\n",
    "    return np.asarray(q), r[:r.shape[1]]\n",
    "\n",
    "def upd_row(r_shared, q_shared, shape, b_size, queue):\n",
    "    m, n = shape\n",
    "    r = np.frombuffer(r_shared, dtype=np.float64).reshape(m, n)\n",
    "    q = np.frombuffer(q_shared, dtype=np.float64).reshape(m, n)\n",
    "    while True:\n",
    "        job = queue.get()\n",
    "        if job is None:\n",
    "            break\n",
    "        j, j1 = job\n",
    "        for i in range(j, m, b_size):\n",
    "            for jj in range(b_size):\n",
    "                for ii in range(b_size):\n",
    "                    row = i + ii\n",
    "                    col = j + jj\n",
    "                    if row > col:\n",
    "                        c =  q[row, col]\n",
    "                        s = -q[col, row]\n",
    "                        j2 = j + j1*b_size\n",
    "                        scipy.linalg.blas.drot(r[col, j2:j2+b_size], r[row, j2:j2+b_size], c, s, overwrite_x=1, overwrite_y=1)\n",
    "        queue.task_done()\n",
    "    queue.task_done()"
   ]
  },
  {
   "cell_type": "code",
   "execution_count": 7,
   "id": "f6f3ec1e",
   "metadata": {},
   "outputs": [
    {
     "data": {
      "text/plain": [
       "0"
      ]
     },
     "execution_count": 7,
     "metadata": {},
     "output_type": "execute_result"
    }
   ],
   "source": [
    "test(qr_mp, restore_q, {'proc_count':4})"
   ]
  },
  {
   "cell_type": "code",
   "execution_count": 8,
   "id": "f22d4643",
   "metadata": {},
   "outputs": [
    {
     "name": "stdout",
     "output_type": "stream",
     "text": [
      "proc_count = 1\n",
      "CPU times: user 1.08 s, sys: 40.3 ms, total: 1.12 s\n",
      "Wall time: 7.66 s\n",
      "---------------------------------------------------\n",
      "proc_count = 8\n",
      "CPU times: user 642 ms, sys: 60.3 ms, total: 703 ms\n",
      "Wall time: 3.25 s\n"
     ]
    }
   ],
   "source": [
    "n = 512\n",
    "a = np.random.rand(n, n)\n",
    "\n",
    "print('proc_count = 1')\n",
    "_ = %time qr_mp(a, 1)\n",
    "print('-'*51)\n",
    "print('proc_count = 8')\n",
    "_ = %time qr_mp(a, 8)"
   ]
  },
  {
   "cell_type": "code",
   "execution_count": 9,
   "id": "89b0aadc",
   "metadata": {},
   "outputs": [
    {
     "name": "stdout",
     "output_type": "stream",
     "text": [
      "size: 128\n",
      "126 ms ± 13.2 ms per loop (mean ± std. dev. of 7 runs, 10 loops each)\n",
      "106 ms ± 6.42 ms per loop (mean ± std. dev. of 7 runs, 10 loops each)\n",
      "119 ms ± 14.2 ms per loop (mean ± std. dev. of 7 runs, 10 loops each)\n",
      "150 ms ± 13.1 ms per loop (mean ± std. dev. of 7 runs, 1 loop each)\n",
      "457 ms ± 217 ms per loop (mean ± std. dev. of 7 runs, 1 loop each)\n",
      "-------------------------------------------------------------------\n",
      "size: 256\n",
      "1.06 s ± 189 ms per loop (mean ± std. dev. of 7 runs, 1 loop each)\n",
      "545 ms ± 46.7 ms per loop (mean ± std. dev. of 7 runs, 1 loop each)\n",
      "459 ms ± 16.6 ms per loop (mean ± std. dev. of 7 runs, 1 loop each)\n",
      "538 ms ± 57.5 ms per loop (mean ± std. dev. of 7 runs, 1 loop each)\n",
      "698 ms ± 86.4 ms per loop (mean ± std. dev. of 7 runs, 1 loop each)\n",
      "-------------------------------------------------------------------\n",
      "size: 512\n",
      "5.98 s ± 852 ms per loop (mean ± std. dev. of 7 runs, 1 loop each)\n",
      "3.54 s ± 341 ms per loop (mean ± std. dev. of 7 runs, 1 loop each)\n",
      "5.13 s ± 1.76 s per loop (mean ± std. dev. of 7 runs, 1 loop each)\n",
      "4.27 s ± 589 ms per loop (mean ± std. dev. of 7 runs, 1 loop each)\n",
      "3.5 s ± 388 ms per loop (mean ± std. dev. of 7 runs, 1 loop each)\n",
      "-------------------------------------------------------------------\n",
      "size: 1024\n",
      "41.2 s ± 2.72 s per loop (mean ± std. dev. of 7 runs, 1 loop each)\n",
      "24.3 s ± 438 ms per loop (mean ± std. dev. of 7 runs, 1 loop each)\n",
      "21.5 s ± 441 ms per loop (mean ± std. dev. of 7 runs, 1 loop each)\n",
      "24.6 s ± 3.37 s per loop (mean ± std. dev. of 7 runs, 1 loop each)\n",
      "21.6 s ± 534 ms per loop (mean ± std. dev. of 7 runs, 1 loop each)\n",
      "-------------------------------------------------------------------\n"
     ]
    }
   ],
   "source": [
    "sizes = [128, 256, 512, 1024]\n",
    "log2_proc_counts = list(range(5))\n",
    "proc_counts = [2**x for x in log2_proc_counts]\n",
    "\n",
    "res_mp = np.empty((len(sizes), len(proc_counts)))\n",
    "for i, size in enumerate(sizes):\n",
    "    a = np.random.rand(size, size)\n",
    "    print('size:', size)\n",
    "    for j, proc_count in enumerate(proc_counts):\n",
    "        t = %timeit -o qr_mp(a, proc_count)\n",
    "        res_mp[i, j] = t.average\n",
    "    print('-'*67)\n",
    "# res_mp"
   ]
  },
  {
   "cell_type": "code",
   "execution_count": 34,
   "id": "2d84748f",
   "metadata": {},
   "outputs": [
    {
     "data": {
      "text/plain": [
       "array([[1.        , 1.18592466, 1.0620044 , 0.83806092, 0.27563251],\n",
       "       [1.        , 1.95247173, 2.31675662, 1.97806509, 1.5237189 ],\n",
       "       [1.        , 1.6860778 , 1.16450451, 1.39826066, 1.70827538],\n",
       "       [1.        , 1.69995254, 1.91896749, 1.67427324, 1.90642357]])"
      ]
     },
     "execution_count": 34,
     "metadata": {},
     "output_type": "execute_result"
    }
   ],
   "source": [
    "res2_mp = np.empty(res_mp.shape)\n",
    "for i in range(res_mp.shape[0]):\n",
    "    for j in range(res_mp.shape[1]):\n",
    "        res2_mp[i, j] = res_mp[i, 0] / res_mp[i, j]\n",
    "res2_mp"
   ]
  },
  {
   "cell_type": "code",
   "execution_count": 27,
   "id": "8e07fb94",
   "metadata": {
    "scrolled": false
   },
   "outputs": [
    {
     "data": {
      "application/vnd.plotly.v1+json": {
       "config": {
        "plotlyServerURL": "https://plot.ly"
       },
       "data": [
        {
         "contours": {
          "z": {
           "color": "white",
           "end": 2,
           "show": true,
           "size": 0.1,
           "start": 0
          }
         },
         "type": "surface",
         "x": [
          7,
          8,
          9,
          10
         ],
         "y": [
          0,
          1,
          2,
          3,
          4
         ],
         "z": [
          [
           1,
           1,
           1,
           1
          ],
          [
           1.18592466319253,
           1.9524717315956088,
           1.6860778017755471,
           1.699952536068773
          ],
          [
           1.0620043950301852,
           2.3167566243276188,
           1.1645045079598855,
           1.9189674884545764
          ],
          [
           0.8380609161243153,
           1.97806508829239,
           1.398260658511905,
           1.6742732427221898
          ],
          [
           0.27563250815169327,
           1.523718900808562,
           1.7082753790328609,
           1.9064235677098065
          ]
         ]
        }
       ],
       "layout": {
        "height": 400,
        "margin": {
         "b": 50,
         "l": 5,
         "r": 5,
         "t": 30
        },
        "scene": {
         "xaxis": {
          "ticktext": [
           128,
           256,
           512,
           1024
          ],
          "tickvals": [
           7,
           8,
           9,
           10
          ],
          "title": {
           "text": "Size"
          }
         },
         "yaxis": {
          "ticktext": [
           1,
           2,
           4,
           8,
           16
          ],
          "tickvals": [
           0,
           1,
           2,
           3,
           4
          ],
          "title": {
           "text": "Proc_count"
          }
         },
         "zaxis": {
          "title": {
           "text": "Acceleration"
          }
         }
        },
        "template": {
         "data": {
          "bar": [
           {
            "error_x": {
             "color": "#2a3f5f"
            },
            "error_y": {
             "color": "#2a3f5f"
            },
            "marker": {
             "line": {
              "color": "#E5ECF6",
              "width": 0.5
             },
             "pattern": {
              "fillmode": "overlay",
              "size": 10,
              "solidity": 0.2
             }
            },
            "type": "bar"
           }
          ],
          "barpolar": [
           {
            "marker": {
             "line": {
              "color": "#E5ECF6",
              "width": 0.5
             },
             "pattern": {
              "fillmode": "overlay",
              "size": 10,
              "solidity": 0.2
             }
            },
            "type": "barpolar"
           }
          ],
          "carpet": [
           {
            "aaxis": {
             "endlinecolor": "#2a3f5f",
             "gridcolor": "white",
             "linecolor": "white",
             "minorgridcolor": "white",
             "startlinecolor": "#2a3f5f"
            },
            "baxis": {
             "endlinecolor": "#2a3f5f",
             "gridcolor": "white",
             "linecolor": "white",
             "minorgridcolor": "white",
             "startlinecolor": "#2a3f5f"
            },
            "type": "carpet"
           }
          ],
          "choropleth": [
           {
            "colorbar": {
             "outlinewidth": 0,
             "ticks": ""
            },
            "type": "choropleth"
           }
          ],
          "contour": [
           {
            "colorbar": {
             "outlinewidth": 0,
             "ticks": ""
            },
            "colorscale": [
             [
              0,
              "#0d0887"
             ],
             [
              0.1111111111111111,
              "#46039f"
             ],
             [
              0.2222222222222222,
              "#7201a8"
             ],
             [
              0.3333333333333333,
              "#9c179e"
             ],
             [
              0.4444444444444444,
              "#bd3786"
             ],
             [
              0.5555555555555556,
              "#d8576b"
             ],
             [
              0.6666666666666666,
              "#ed7953"
             ],
             [
              0.7777777777777778,
              "#fb9f3a"
             ],
             [
              0.8888888888888888,
              "#fdca26"
             ],
             [
              1,
              "#f0f921"
             ]
            ],
            "type": "contour"
           }
          ],
          "contourcarpet": [
           {
            "colorbar": {
             "outlinewidth": 0,
             "ticks": ""
            },
            "type": "contourcarpet"
           }
          ],
          "heatmap": [
           {
            "colorbar": {
             "outlinewidth": 0,
             "ticks": ""
            },
            "colorscale": [
             [
              0,
              "#0d0887"
             ],
             [
              0.1111111111111111,
              "#46039f"
             ],
             [
              0.2222222222222222,
              "#7201a8"
             ],
             [
              0.3333333333333333,
              "#9c179e"
             ],
             [
              0.4444444444444444,
              "#bd3786"
             ],
             [
              0.5555555555555556,
              "#d8576b"
             ],
             [
              0.6666666666666666,
              "#ed7953"
             ],
             [
              0.7777777777777778,
              "#fb9f3a"
             ],
             [
              0.8888888888888888,
              "#fdca26"
             ],
             [
              1,
              "#f0f921"
             ]
            ],
            "type": "heatmap"
           }
          ],
          "heatmapgl": [
           {
            "colorbar": {
             "outlinewidth": 0,
             "ticks": ""
            },
            "colorscale": [
             [
              0,
              "#0d0887"
             ],
             [
              0.1111111111111111,
              "#46039f"
             ],
             [
              0.2222222222222222,
              "#7201a8"
             ],
             [
              0.3333333333333333,
              "#9c179e"
             ],
             [
              0.4444444444444444,
              "#bd3786"
             ],
             [
              0.5555555555555556,
              "#d8576b"
             ],
             [
              0.6666666666666666,
              "#ed7953"
             ],
             [
              0.7777777777777778,
              "#fb9f3a"
             ],
             [
              0.8888888888888888,
              "#fdca26"
             ],
             [
              1,
              "#f0f921"
             ]
            ],
            "type": "heatmapgl"
           }
          ],
          "histogram": [
           {
            "marker": {
             "pattern": {
              "fillmode": "overlay",
              "size": 10,
              "solidity": 0.2
             }
            },
            "type": "histogram"
           }
          ],
          "histogram2d": [
           {
            "colorbar": {
             "outlinewidth": 0,
             "ticks": ""
            },
            "colorscale": [
             [
              0,
              "#0d0887"
             ],
             [
              0.1111111111111111,
              "#46039f"
             ],
             [
              0.2222222222222222,
              "#7201a8"
             ],
             [
              0.3333333333333333,
              "#9c179e"
             ],
             [
              0.4444444444444444,
              "#bd3786"
             ],
             [
              0.5555555555555556,
              "#d8576b"
             ],
             [
              0.6666666666666666,
              "#ed7953"
             ],
             [
              0.7777777777777778,
              "#fb9f3a"
             ],
             [
              0.8888888888888888,
              "#fdca26"
             ],
             [
              1,
              "#f0f921"
             ]
            ],
            "type": "histogram2d"
           }
          ],
          "histogram2dcontour": [
           {
            "colorbar": {
             "outlinewidth": 0,
             "ticks": ""
            },
            "colorscale": [
             [
              0,
              "#0d0887"
             ],
             [
              0.1111111111111111,
              "#46039f"
             ],
             [
              0.2222222222222222,
              "#7201a8"
             ],
             [
              0.3333333333333333,
              "#9c179e"
             ],
             [
              0.4444444444444444,
              "#bd3786"
             ],
             [
              0.5555555555555556,
              "#d8576b"
             ],
             [
              0.6666666666666666,
              "#ed7953"
             ],
             [
              0.7777777777777778,
              "#fb9f3a"
             ],
             [
              0.8888888888888888,
              "#fdca26"
             ],
             [
              1,
              "#f0f921"
             ]
            ],
            "type": "histogram2dcontour"
           }
          ],
          "mesh3d": [
           {
            "colorbar": {
             "outlinewidth": 0,
             "ticks": ""
            },
            "type": "mesh3d"
           }
          ],
          "parcoords": [
           {
            "line": {
             "colorbar": {
              "outlinewidth": 0,
              "ticks": ""
             }
            },
            "type": "parcoords"
           }
          ],
          "pie": [
           {
            "automargin": true,
            "type": "pie"
           }
          ],
          "scatter": [
           {
            "marker": {
             "colorbar": {
              "outlinewidth": 0,
              "ticks": ""
             }
            },
            "type": "scatter"
           }
          ],
          "scatter3d": [
           {
            "line": {
             "colorbar": {
              "outlinewidth": 0,
              "ticks": ""
             }
            },
            "marker": {
             "colorbar": {
              "outlinewidth": 0,
              "ticks": ""
             }
            },
            "type": "scatter3d"
           }
          ],
          "scattercarpet": [
           {
            "marker": {
             "colorbar": {
              "outlinewidth": 0,
              "ticks": ""
             }
            },
            "type": "scattercarpet"
           }
          ],
          "scattergeo": [
           {
            "marker": {
             "colorbar": {
              "outlinewidth": 0,
              "ticks": ""
             }
            },
            "type": "scattergeo"
           }
          ],
          "scattergl": [
           {
            "marker": {
             "colorbar": {
              "outlinewidth": 0,
              "ticks": ""
             }
            },
            "type": "scattergl"
           }
          ],
          "scattermapbox": [
           {
            "marker": {
             "colorbar": {
              "outlinewidth": 0,
              "ticks": ""
             }
            },
            "type": "scattermapbox"
           }
          ],
          "scatterpolar": [
           {
            "marker": {
             "colorbar": {
              "outlinewidth": 0,
              "ticks": ""
             }
            },
            "type": "scatterpolar"
           }
          ],
          "scatterpolargl": [
           {
            "marker": {
             "colorbar": {
              "outlinewidth": 0,
              "ticks": ""
             }
            },
            "type": "scatterpolargl"
           }
          ],
          "scatterternary": [
           {
            "marker": {
             "colorbar": {
              "outlinewidth": 0,
              "ticks": ""
             }
            },
            "type": "scatterternary"
           }
          ],
          "surface": [
           {
            "colorbar": {
             "outlinewidth": 0,
             "ticks": ""
            },
            "colorscale": [
             [
              0,
              "#0d0887"
             ],
             [
              0.1111111111111111,
              "#46039f"
             ],
             [
              0.2222222222222222,
              "#7201a8"
             ],
             [
              0.3333333333333333,
              "#9c179e"
             ],
             [
              0.4444444444444444,
              "#bd3786"
             ],
             [
              0.5555555555555556,
              "#d8576b"
             ],
             [
              0.6666666666666666,
              "#ed7953"
             ],
             [
              0.7777777777777778,
              "#fb9f3a"
             ],
             [
              0.8888888888888888,
              "#fdca26"
             ],
             [
              1,
              "#f0f921"
             ]
            ],
            "type": "surface"
           }
          ],
          "table": [
           {
            "cells": {
             "fill": {
              "color": "#EBF0F8"
             },
             "line": {
              "color": "white"
             }
            },
            "header": {
             "fill": {
              "color": "#C8D4E3"
             },
             "line": {
              "color": "white"
             }
            },
            "type": "table"
           }
          ]
         },
         "layout": {
          "annotationdefaults": {
           "arrowcolor": "#2a3f5f",
           "arrowhead": 0,
           "arrowwidth": 1
          },
          "autotypenumbers": "strict",
          "coloraxis": {
           "colorbar": {
            "outlinewidth": 0,
            "ticks": ""
           }
          },
          "colorscale": {
           "diverging": [
            [
             0,
             "#8e0152"
            ],
            [
             0.1,
             "#c51b7d"
            ],
            [
             0.2,
             "#de77ae"
            ],
            [
             0.3,
             "#f1b6da"
            ],
            [
             0.4,
             "#fde0ef"
            ],
            [
             0.5,
             "#f7f7f7"
            ],
            [
             0.6,
             "#e6f5d0"
            ],
            [
             0.7,
             "#b8e186"
            ],
            [
             0.8,
             "#7fbc41"
            ],
            [
             0.9,
             "#4d9221"
            ],
            [
             1,
             "#276419"
            ]
           ],
           "sequential": [
            [
             0,
             "#0d0887"
            ],
            [
             0.1111111111111111,
             "#46039f"
            ],
            [
             0.2222222222222222,
             "#7201a8"
            ],
            [
             0.3333333333333333,
             "#9c179e"
            ],
            [
             0.4444444444444444,
             "#bd3786"
            ],
            [
             0.5555555555555556,
             "#d8576b"
            ],
            [
             0.6666666666666666,
             "#ed7953"
            ],
            [
             0.7777777777777778,
             "#fb9f3a"
            ],
            [
             0.8888888888888888,
             "#fdca26"
            ],
            [
             1,
             "#f0f921"
            ]
           ],
           "sequentialminus": [
            [
             0,
             "#0d0887"
            ],
            [
             0.1111111111111111,
             "#46039f"
            ],
            [
             0.2222222222222222,
             "#7201a8"
            ],
            [
             0.3333333333333333,
             "#9c179e"
            ],
            [
             0.4444444444444444,
             "#bd3786"
            ],
            [
             0.5555555555555556,
             "#d8576b"
            ],
            [
             0.6666666666666666,
             "#ed7953"
            ],
            [
             0.7777777777777778,
             "#fb9f3a"
            ],
            [
             0.8888888888888888,
             "#fdca26"
            ],
            [
             1,
             "#f0f921"
            ]
           ]
          },
          "colorway": [
           "#636efa",
           "#EF553B",
           "#00cc96",
           "#ab63fa",
           "#FFA15A",
           "#19d3f3",
           "#FF6692",
           "#B6E880",
           "#FF97FF",
           "#FECB52"
          ],
          "font": {
           "color": "#2a3f5f"
          },
          "geo": {
           "bgcolor": "white",
           "lakecolor": "white",
           "landcolor": "#E5ECF6",
           "showlakes": true,
           "showland": true,
           "subunitcolor": "white"
          },
          "hoverlabel": {
           "align": "left"
          },
          "hovermode": "closest",
          "mapbox": {
           "style": "light"
          },
          "paper_bgcolor": "white",
          "plot_bgcolor": "#E5ECF6",
          "polar": {
           "angularaxis": {
            "gridcolor": "white",
            "linecolor": "white",
            "ticks": ""
           },
           "bgcolor": "#E5ECF6",
           "radialaxis": {
            "gridcolor": "white",
            "linecolor": "white",
            "ticks": ""
           }
          },
          "scene": {
           "xaxis": {
            "backgroundcolor": "#E5ECF6",
            "gridcolor": "white",
            "gridwidth": 2,
            "linecolor": "white",
            "showbackground": true,
            "ticks": "",
            "zerolinecolor": "white"
           },
           "yaxis": {
            "backgroundcolor": "#E5ECF6",
            "gridcolor": "white",
            "gridwidth": 2,
            "linecolor": "white",
            "showbackground": true,
            "ticks": "",
            "zerolinecolor": "white"
           },
           "zaxis": {
            "backgroundcolor": "#E5ECF6",
            "gridcolor": "white",
            "gridwidth": 2,
            "linecolor": "white",
            "showbackground": true,
            "ticks": "",
            "zerolinecolor": "white"
           }
          },
          "shapedefaults": {
           "line": {
            "color": "#2a3f5f"
           }
          },
          "ternary": {
           "aaxis": {
            "gridcolor": "white",
            "linecolor": "white",
            "ticks": ""
           },
           "baxis": {
            "gridcolor": "white",
            "linecolor": "white",
            "ticks": ""
           },
           "bgcolor": "#E5ECF6",
           "caxis": {
            "gridcolor": "white",
            "linecolor": "white",
            "ticks": ""
           }
          },
          "title": {
           "x": 0.05
          },
          "xaxis": {
           "automargin": true,
           "gridcolor": "white",
           "linecolor": "white",
           "ticks": "",
           "title": {
            "standoff": 15
           },
           "zerolinecolor": "white",
           "zerolinewidth": 2
          },
          "yaxis": {
           "automargin": true,
           "gridcolor": "white",
           "linecolor": "white",
           "ticks": "",
           "title": {
            "standoff": 15
           },
           "zerolinecolor": "white",
           "zerolinewidth": 2
          }
         }
        },
        "title": {
         "text": "Multiprocessing"
        },
        "width": 800
       }
      },
      "text/html": [
       "<div>                            <div id=\"f3257931-1d88-4587-bd4a-676c944b9fbd\" class=\"plotly-graph-div\" style=\"height:400px; width:800px;\"></div>            <script type=\"text/javascript\">                require([\"plotly\"], function(Plotly) {                    window.PLOTLYENV=window.PLOTLYENV || {};                                    if (document.getElementById(\"f3257931-1d88-4587-bd4a-676c944b9fbd\")) {                    Plotly.newPlot(                        \"f3257931-1d88-4587-bd4a-676c944b9fbd\",                        [{\"contours\":{\"z\":{\"color\":\"white\",\"end\":2,\"show\":true,\"size\":0.1,\"start\":0.0}},\"x\":[7,8,9,10],\"y\":[0,1,2,3,4],\"z\":[[1.0,1.0,1.0,1.0],[1.18592466319253,1.9524717315956088,1.6860778017755471,1.699952536068773],[1.0620043950301852,2.3167566243276188,1.1645045079598855,1.9189674884545764],[0.8380609161243153,1.97806508829239,1.398260658511905,1.6742732427221898],[0.27563250815169327,1.523718900808562,1.7082753790328609,1.9064235677098065]],\"type\":\"surface\"}],                        {\"template\":{\"data\":{\"bar\":[{\"error_x\":{\"color\":\"#2a3f5f\"},\"error_y\":{\"color\":\"#2a3f5f\"},\"marker\":{\"line\":{\"color\":\"#E5ECF6\",\"width\":0.5},\"pattern\":{\"fillmode\":\"overlay\",\"size\":10,\"solidity\":0.2}},\"type\":\"bar\"}],\"barpolar\":[{\"marker\":{\"line\":{\"color\":\"#E5ECF6\",\"width\":0.5},\"pattern\":{\"fillmode\":\"overlay\",\"size\":10,\"solidity\":0.2}},\"type\":\"barpolar\"}],\"carpet\":[{\"aaxis\":{\"endlinecolor\":\"#2a3f5f\",\"gridcolor\":\"white\",\"linecolor\":\"white\",\"minorgridcolor\":\"white\",\"startlinecolor\":\"#2a3f5f\"},\"baxis\":{\"endlinecolor\":\"#2a3f5f\",\"gridcolor\":\"white\",\"linecolor\":\"white\",\"minorgridcolor\":\"white\",\"startlinecolor\":\"#2a3f5f\"},\"type\":\"carpet\"}],\"choropleth\":[{\"colorbar\":{\"outlinewidth\":0,\"ticks\":\"\"},\"type\":\"choropleth\"}],\"contour\":[{\"colorbar\":{\"outlinewidth\":0,\"ticks\":\"\"},\"colorscale\":[[0.0,\"#0d0887\"],[0.1111111111111111,\"#46039f\"],[0.2222222222222222,\"#7201a8\"],[0.3333333333333333,\"#9c179e\"],[0.4444444444444444,\"#bd3786\"],[0.5555555555555556,\"#d8576b\"],[0.6666666666666666,\"#ed7953\"],[0.7777777777777778,\"#fb9f3a\"],[0.8888888888888888,\"#fdca26\"],[1.0,\"#f0f921\"]],\"type\":\"contour\"}],\"contourcarpet\":[{\"colorbar\":{\"outlinewidth\":0,\"ticks\":\"\"},\"type\":\"contourcarpet\"}],\"heatmap\":[{\"colorbar\":{\"outlinewidth\":0,\"ticks\":\"\"},\"colorscale\":[[0.0,\"#0d0887\"],[0.1111111111111111,\"#46039f\"],[0.2222222222222222,\"#7201a8\"],[0.3333333333333333,\"#9c179e\"],[0.4444444444444444,\"#bd3786\"],[0.5555555555555556,\"#d8576b\"],[0.6666666666666666,\"#ed7953\"],[0.7777777777777778,\"#fb9f3a\"],[0.8888888888888888,\"#fdca26\"],[1.0,\"#f0f921\"]],\"type\":\"heatmap\"}],\"heatmapgl\":[{\"colorbar\":{\"outlinewidth\":0,\"ticks\":\"\"},\"colorscale\":[[0.0,\"#0d0887\"],[0.1111111111111111,\"#46039f\"],[0.2222222222222222,\"#7201a8\"],[0.3333333333333333,\"#9c179e\"],[0.4444444444444444,\"#bd3786\"],[0.5555555555555556,\"#d8576b\"],[0.6666666666666666,\"#ed7953\"],[0.7777777777777778,\"#fb9f3a\"],[0.8888888888888888,\"#fdca26\"],[1.0,\"#f0f921\"]],\"type\":\"heatmapgl\"}],\"histogram\":[{\"marker\":{\"pattern\":{\"fillmode\":\"overlay\",\"size\":10,\"solidity\":0.2}},\"type\":\"histogram\"}],\"histogram2d\":[{\"colorbar\":{\"outlinewidth\":0,\"ticks\":\"\"},\"colorscale\":[[0.0,\"#0d0887\"],[0.1111111111111111,\"#46039f\"],[0.2222222222222222,\"#7201a8\"],[0.3333333333333333,\"#9c179e\"],[0.4444444444444444,\"#bd3786\"],[0.5555555555555556,\"#d8576b\"],[0.6666666666666666,\"#ed7953\"],[0.7777777777777778,\"#fb9f3a\"],[0.8888888888888888,\"#fdca26\"],[1.0,\"#f0f921\"]],\"type\":\"histogram2d\"}],\"histogram2dcontour\":[{\"colorbar\":{\"outlinewidth\":0,\"ticks\":\"\"},\"colorscale\":[[0.0,\"#0d0887\"],[0.1111111111111111,\"#46039f\"],[0.2222222222222222,\"#7201a8\"],[0.3333333333333333,\"#9c179e\"],[0.4444444444444444,\"#bd3786\"],[0.5555555555555556,\"#d8576b\"],[0.6666666666666666,\"#ed7953\"],[0.7777777777777778,\"#fb9f3a\"],[0.8888888888888888,\"#fdca26\"],[1.0,\"#f0f921\"]],\"type\":\"histogram2dcontour\"}],\"mesh3d\":[{\"colorbar\":{\"outlinewidth\":0,\"ticks\":\"\"},\"type\":\"mesh3d\"}],\"parcoords\":[{\"line\":{\"colorbar\":{\"outlinewidth\":0,\"ticks\":\"\"}},\"type\":\"parcoords\"}],\"pie\":[{\"automargin\":true,\"type\":\"pie\"}],\"scatter\":[{\"marker\":{\"colorbar\":{\"outlinewidth\":0,\"ticks\":\"\"}},\"type\":\"scatter\"}],\"scatter3d\":[{\"line\":{\"colorbar\":{\"outlinewidth\":0,\"ticks\":\"\"}},\"marker\":{\"colorbar\":{\"outlinewidth\":0,\"ticks\":\"\"}},\"type\":\"scatter3d\"}],\"scattercarpet\":[{\"marker\":{\"colorbar\":{\"outlinewidth\":0,\"ticks\":\"\"}},\"type\":\"scattercarpet\"}],\"scattergeo\":[{\"marker\":{\"colorbar\":{\"outlinewidth\":0,\"ticks\":\"\"}},\"type\":\"scattergeo\"}],\"scattergl\":[{\"marker\":{\"colorbar\":{\"outlinewidth\":0,\"ticks\":\"\"}},\"type\":\"scattergl\"}],\"scattermapbox\":[{\"marker\":{\"colorbar\":{\"outlinewidth\":0,\"ticks\":\"\"}},\"type\":\"scattermapbox\"}],\"scatterpolar\":[{\"marker\":{\"colorbar\":{\"outlinewidth\":0,\"ticks\":\"\"}},\"type\":\"scatterpolar\"}],\"scatterpolargl\":[{\"marker\":{\"colorbar\":{\"outlinewidth\":0,\"ticks\":\"\"}},\"type\":\"scatterpolargl\"}],\"scatterternary\":[{\"marker\":{\"colorbar\":{\"outlinewidth\":0,\"ticks\":\"\"}},\"type\":\"scatterternary\"}],\"surface\":[{\"colorbar\":{\"outlinewidth\":0,\"ticks\":\"\"},\"colorscale\":[[0.0,\"#0d0887\"],[0.1111111111111111,\"#46039f\"],[0.2222222222222222,\"#7201a8\"],[0.3333333333333333,\"#9c179e\"],[0.4444444444444444,\"#bd3786\"],[0.5555555555555556,\"#d8576b\"],[0.6666666666666666,\"#ed7953\"],[0.7777777777777778,\"#fb9f3a\"],[0.8888888888888888,\"#fdca26\"],[1.0,\"#f0f921\"]],\"type\":\"surface\"}],\"table\":[{\"cells\":{\"fill\":{\"color\":\"#EBF0F8\"},\"line\":{\"color\":\"white\"}},\"header\":{\"fill\":{\"color\":\"#C8D4E3\"},\"line\":{\"color\":\"white\"}},\"type\":\"table\"}]},\"layout\":{\"annotationdefaults\":{\"arrowcolor\":\"#2a3f5f\",\"arrowhead\":0,\"arrowwidth\":1},\"autotypenumbers\":\"strict\",\"coloraxis\":{\"colorbar\":{\"outlinewidth\":0,\"ticks\":\"\"}},\"colorscale\":{\"diverging\":[[0,\"#8e0152\"],[0.1,\"#c51b7d\"],[0.2,\"#de77ae\"],[0.3,\"#f1b6da\"],[0.4,\"#fde0ef\"],[0.5,\"#f7f7f7\"],[0.6,\"#e6f5d0\"],[0.7,\"#b8e186\"],[0.8,\"#7fbc41\"],[0.9,\"#4d9221\"],[1,\"#276419\"]],\"sequential\":[[0.0,\"#0d0887\"],[0.1111111111111111,\"#46039f\"],[0.2222222222222222,\"#7201a8\"],[0.3333333333333333,\"#9c179e\"],[0.4444444444444444,\"#bd3786\"],[0.5555555555555556,\"#d8576b\"],[0.6666666666666666,\"#ed7953\"],[0.7777777777777778,\"#fb9f3a\"],[0.8888888888888888,\"#fdca26\"],[1.0,\"#f0f921\"]],\"sequentialminus\":[[0.0,\"#0d0887\"],[0.1111111111111111,\"#46039f\"],[0.2222222222222222,\"#7201a8\"],[0.3333333333333333,\"#9c179e\"],[0.4444444444444444,\"#bd3786\"],[0.5555555555555556,\"#d8576b\"],[0.6666666666666666,\"#ed7953\"],[0.7777777777777778,\"#fb9f3a\"],[0.8888888888888888,\"#fdca26\"],[1.0,\"#f0f921\"]]},\"colorway\":[\"#636efa\",\"#EF553B\",\"#00cc96\",\"#ab63fa\",\"#FFA15A\",\"#19d3f3\",\"#FF6692\",\"#B6E880\",\"#FF97FF\",\"#FECB52\"],\"font\":{\"color\":\"#2a3f5f\"},\"geo\":{\"bgcolor\":\"white\",\"lakecolor\":\"white\",\"landcolor\":\"#E5ECF6\",\"showlakes\":true,\"showland\":true,\"subunitcolor\":\"white\"},\"hoverlabel\":{\"align\":\"left\"},\"hovermode\":\"closest\",\"mapbox\":{\"style\":\"light\"},\"paper_bgcolor\":\"white\",\"plot_bgcolor\":\"#E5ECF6\",\"polar\":{\"angularaxis\":{\"gridcolor\":\"white\",\"linecolor\":\"white\",\"ticks\":\"\"},\"bgcolor\":\"#E5ECF6\",\"radialaxis\":{\"gridcolor\":\"white\",\"linecolor\":\"white\",\"ticks\":\"\"}},\"scene\":{\"xaxis\":{\"backgroundcolor\":\"#E5ECF6\",\"gridcolor\":\"white\",\"gridwidth\":2,\"linecolor\":\"white\",\"showbackground\":true,\"ticks\":\"\",\"zerolinecolor\":\"white\"},\"yaxis\":{\"backgroundcolor\":\"#E5ECF6\",\"gridcolor\":\"white\",\"gridwidth\":2,\"linecolor\":\"white\",\"showbackground\":true,\"ticks\":\"\",\"zerolinecolor\":\"white\"},\"zaxis\":{\"backgroundcolor\":\"#E5ECF6\",\"gridcolor\":\"white\",\"gridwidth\":2,\"linecolor\":\"white\",\"showbackground\":true,\"ticks\":\"\",\"zerolinecolor\":\"white\"}},\"shapedefaults\":{\"line\":{\"color\":\"#2a3f5f\"}},\"ternary\":{\"aaxis\":{\"gridcolor\":\"white\",\"linecolor\":\"white\",\"ticks\":\"\"},\"baxis\":{\"gridcolor\":\"white\",\"linecolor\":\"white\",\"ticks\":\"\"},\"bgcolor\":\"#E5ECF6\",\"caxis\":{\"gridcolor\":\"white\",\"linecolor\":\"white\",\"ticks\":\"\"}},\"title\":{\"x\":0.05},\"xaxis\":{\"automargin\":true,\"gridcolor\":\"white\",\"linecolor\":\"white\",\"ticks\":\"\",\"title\":{\"standoff\":15},\"zerolinecolor\":\"white\",\"zerolinewidth\":2},\"yaxis\":{\"automargin\":true,\"gridcolor\":\"white\",\"linecolor\":\"white\",\"ticks\":\"\",\"title\":{\"standoff\":15},\"zerolinecolor\":\"white\",\"zerolinewidth\":2}}},\"margin\":{\"r\":5,\"b\":50,\"l\":5,\"t\":30},\"title\":{\"text\":\"Multiprocessing\"},\"scene\":{\"xaxis\":{\"title\":{\"text\":\"Size\"},\"tickvals\":[7,8,9,10],\"ticktext\":[128,256,512,1024]},\"yaxis\":{\"title\":{\"text\":\"Proc_count\"},\"tickvals\":[0,1,2,3,4],\"ticktext\":[1,2,4,8,16]},\"zaxis\":{\"title\":{\"text\":\"Acceleration\"}}},\"width\":800,\"height\":400},                        {\"responsive\": true}                    ).then(function(){\n",
       "                            \n",
       "var gd = document.getElementById('f3257931-1d88-4587-bd4a-676c944b9fbd');\n",
       "var x = new MutationObserver(function (mutations, observer) {{\n",
       "        var display = window.getComputedStyle(gd).display;\n",
       "        if (!display || display === 'none') {{\n",
       "            console.log([gd, 'removed!']);\n",
       "            Plotly.purge(gd);\n",
       "            observer.disconnect();\n",
       "        }}\n",
       "}});\n",
       "\n",
       "// Listen for the removal of the full notebook cells\n",
       "var notebookContainer = gd.closest('#notebook-container');\n",
       "if (notebookContainer) {{\n",
       "    x.observe(notebookContainer, {childList: true});\n",
       "}}\n",
       "\n",
       "// Listen for the clearing of the current output cell\n",
       "var outputEl = gd.closest('.output');\n",
       "if (outputEl) {{\n",
       "    x.observe(outputEl, {childList: true});\n",
       "}}\n",
       "\n",
       "                        })                };                });            </script>        </div>"
      ]
     },
     "metadata": {},
     "output_type": "display_data"
    }
   ],
   "source": [
    "sizes = [128, 256, 512, 1024]\n",
    "log2_sizes = [int(np.log2(size)) for size in sizes]\n",
    "\n",
    "log2_proc_counts = list(range(5))\n",
    "proc_counts = [2**x for x in log2_proc_counts]\n",
    "\n",
    "fig = go.Figure(go.Surface(\n",
    "    contours = {\n",
    "        \"z\": {\"show\": True, \"start\": 0.0, \"end\": 2, \"size\": 0.1, 'color':'white'}\n",
    "    },\n",
    "    x = log2_sizes,\n",
    "    y = log2_proc_counts,\n",
    "    z = res2_mp.T))\n",
    "\n",
    "fig.update_layout(\n",
    "    title='Multiprocessing',\n",
    "    scene = dict(\n",
    "        xaxis_title='Size',\n",
    "        yaxis_title='Proc_count',\n",
    "        zaxis_title='Acceleration'),\n",
    "        margin=dict(r=5, b=50, l=5, t=30))\n",
    "\n",
    "fig.update_layout(\n",
    "    width=800, height=400,\n",
    "    scene = dict(\n",
    "        xaxis = dict(tickvals=log2_sizes, ticktext=sizes),\n",
    "        yaxis = dict(tickvals=log2_proc_counts, ticktext=proc_counts))\n",
    ")\n",
    "\n",
    "fig.show()"
   ]
  },
  {
   "cell_type": "code",
   "execution_count": 12,
   "id": "4b2a470e",
   "metadata": {},
   "outputs": [],
   "source": [
    "%load_ext line_profiler\n",
    "%lprun -f  qr_mp qr_mp(np.random.rand(256, 256), proc_count=4)"
   ]
  },
  {
   "cell_type": "markdown",
   "id": "c9444284",
   "metadata": {},
   "source": [
    "## 3. Numba"
   ]
  },
  {
   "cell_type": "code",
   "execution_count": 13,
   "id": "66d807c0",
   "metadata": {},
   "outputs": [],
   "source": [
    "@numba.njit(parallel=True)\n",
    "def qr_nb(a, proc_count):\n",
    "    b_size = 32\n",
    "    numba.set_num_threads(proc_count)\n",
    "    r = np.copy(a)\n",
    "    q = np.zeros(r.shape)\n",
    "    m, n = a.shape\n",
    "    for j in range(0, n, b_size):\n",
    "        for i in range(j, m, b_size): # обнуление\n",
    "            for jj in range(b_size):\n",
    "                for ii in range(b_size):\n",
    "                    row = i + ii\n",
    "                    col = j + jj\n",
    "                    if row > col:\n",
    "                        r0, r1 = r[col, col], r[row, col]\n",
    "                        sigma = np.sign(r0) if abs(r0) > abs(r1) else np.sign(r1)\n",
    "                        den = sigma * np.sqrt(r0**2 + r1**2)\n",
    "                        c = r0 / den\n",
    "                        s = r1 / den\n",
    "                        q[row, col] = c\n",
    "                        q[col, row] = -s\n",
    "                        for k in range(col, j+b_size):\n",
    "                            r0k =  r[col, k] * c + r[row, k] * s\n",
    "                            r1k = -r[col, k] * s + r[row, k] * c\n",
    "                            r[col, k] = r0k\n",
    "                            r[row, k] = r1k\n",
    "\n",
    "        for j1 in numba.prange(1, (n-j)//b_size): # обновление\n",
    "            for i in range(j, m, b_size):\n",
    "                for jj in range(b_size):\n",
    "                    for ii in range(b_size):\n",
    "                        row = i + ii\n",
    "                        col = j + jj\n",
    "                        if row > col:\n",
    "                            c =  q[row, col]\n",
    "                            s = -q[col, row]\n",
    "                            j2 = j + j1*b_size\n",
    "                            for k in range(j2, j2 + b_size):\n",
    "                                r0k =  r[col, k] * c + r[row, k] * s\n",
    "                                r1k = -r[col, k] * s + r[row, k] * c\n",
    "                                r[col, k] = r0k\n",
    "                                r[row, k] = r1k\n",
    "\n",
    "    return np.asarray(q), r[:r.shape[1]]"
   ]
  },
  {
   "cell_type": "code",
   "execution_count": 14,
   "id": "a7a670f6",
   "metadata": {},
   "outputs": [
    {
     "data": {
      "text/plain": [
       "0"
      ]
     },
     "execution_count": 14,
     "metadata": {},
     "output_type": "execute_result"
    }
   ],
   "source": [
    "test(qr_nb, restore_q, dict(proc_count=2))"
   ]
  },
  {
   "cell_type": "code",
   "execution_count": 15,
   "id": "5f2aca52",
   "metadata": {},
   "outputs": [
    {
     "name": "stdout",
     "output_type": "stream",
     "text": [
      "CPU times: user 1.7 s, sys: 29.4 ms, total: 1.72 s\n",
      "Wall time: 1.59 s\n",
      "---------------------------------------------------\n",
      "CPU times: user 3.01 s, sys: 39.1 ms, total: 3.05 s\n",
      "Wall time: 857 ms\n"
     ]
    }
   ],
   "source": [
    "n = 1024\n",
    "a = np.random.rand(n, n)\n",
    "\n",
    "_ = %time qr_nb(a, 1)\n",
    "print('-'*51)\n",
    "_ = %time qr_nb(a, 4)"
   ]
  },
  {
   "cell_type": "code",
   "execution_count": 16,
   "id": "1b1f006f",
   "metadata": {},
   "outputs": [
    {
     "name": "stdout",
     "output_type": "stream",
     "text": [
      "size: 256\n",
      "23.3 ms ± 1.6 ms per loop (mean ± std. dev. of 7 runs, 10 loops each)\n",
      "16.8 ms ± 2.17 ms per loop (mean ± std. dev. of 7 runs, 10 loops each)\n",
      "21.1 ms ± 2.62 ms per loop (mean ± std. dev. of 7 runs, 100 loops each)\n",
      "24 ms ± 5.77 ms per loop (mean ± std. dev. of 7 runs, 100 loops each)\n",
      "-------------------------------------------------------------------\n",
      "size: 512\n",
      "203 ms ± 8.34 ms per loop (mean ± std. dev. of 7 runs, 1 loop each)\n",
      "125 ms ± 7.55 ms per loop (mean ± std. dev. of 7 runs, 10 loops each)\n",
      "120 ms ± 6 ms per loop (mean ± std. dev. of 7 runs, 10 loops each)\n",
      "108 ms ± 13.1 ms per loop (mean ± std. dev. of 7 runs, 10 loops each)\n",
      "-------------------------------------------------------------------\n",
      "size: 1024\n",
      "1.64 s ± 161 ms per loop (mean ± std. dev. of 7 runs, 1 loop each)\n",
      "1.02 s ± 75.4 ms per loop (mean ± std. dev. of 7 runs, 1 loop each)\n",
      "894 ms ± 62.9 ms per loop (mean ± std. dev. of 7 runs, 1 loop each)\n",
      "836 ms ± 87.3 ms per loop (mean ± std. dev. of 7 runs, 1 loop each)\n",
      "-------------------------------------------------------------------\n",
      "size: 2048\n",
      "14.4 s ± 2.52 s per loop (mean ± std. dev. of 7 runs, 1 loop each)\n",
      "6.79 s ± 209 ms per loop (mean ± std. dev. of 7 runs, 1 loop each)\n",
      "6.24 s ± 158 ms per loop (mean ± std. dev. of 7 runs, 1 loop each)\n",
      "7.94 s ± 2.71 s per loop (mean ± std. dev. of 7 runs, 1 loop each)\n",
      "-------------------------------------------------------------------\n"
     ]
    }
   ],
   "source": [
    "sizes = [256, 512, 1024, 2048]\n",
    "proc_counts = [1, 2, 3, 4]\n",
    "\n",
    "res_nb = np.empty((len(sizes), len(proc_counts)))\n",
    "for i, size in enumerate(sizes):\n",
    "    a = np.random.rand(size, size)\n",
    "    print('size:', size)\n",
    "    for proc_count in proc_counts:\n",
    "        t = %timeit -o qr_nb(a, proc_count)\n",
    "        res_nb[i, proc_count-1] = t.average\n",
    "    print('-'*67)"
   ]
  },
  {
   "cell_type": "code",
   "execution_count": 35,
   "id": "8236151e",
   "metadata": {},
   "outputs": [
    {
     "data": {
      "text/plain": [
       "array([[1.        , 1.38491586, 1.10342573, 0.97178838],\n",
       "       [1.        , 1.61995277, 1.6924328 , 1.87689425],\n",
       "       [1.        , 1.60894864, 1.82898435, 1.95772493],\n",
       "       [1.        , 2.12286524, 2.31187379, 1.81644893]])"
      ]
     },
     "execution_count": 35,
     "metadata": {},
     "output_type": "execute_result"
    }
   ],
   "source": [
    "res2_nb = np.empty(res_nb.shape)\n",
    "for i in range(res_nb.shape[0]):\n",
    "    for j in range(res_nb.shape[1]):\n",
    "        res2_nb[i, j] = res_nb[i, 0] / res_nb[i, j]\n",
    "res2_nb"
   ]
  },
  {
   "cell_type": "code",
   "execution_count": 32,
   "id": "94ff4a4d",
   "metadata": {},
   "outputs": [
    {
     "data": {
      "application/vnd.plotly.v1+json": {
       "config": {
        "plotlyServerURL": "https://plot.ly"
       },
       "data": [
        {
         "contours": {
          "z": {
           "color": "white",
           "end": 2,
           "show": true,
           "size": 0.1,
           "start": 0
          }
         },
         "type": "surface",
         "x": [
          8,
          9,
          10,
          11
         ],
         "y": [
          1,
          2,
          3,
          4
         ],
         "z": [
          [
           1,
           1,
           1,
           1
          ],
          [
           1.3849158639509103,
           1.619952770160135,
           1.6089486441901444,
           2.1228652407306248
          ],
          [
           1.103425733270564,
           1.6924328041501306,
           1.8289843495369351,
           2.31187378672815
          ],
          [
           0.9717883797310071,
           1.8768942496478673,
           1.9577249265788397,
           1.8164489292023849
          ]
         ]
        }
       ],
       "layout": {
        "height": 400,
        "margin": {
         "b": 50,
         "l": 5,
         "r": 5,
         "t": 30
        },
        "scene": {
         "xaxis": {
          "ticktext": [
           256,
           512,
           1024,
           2048
          ],
          "tickvals": [
           8,
           9,
           10,
           11
          ],
          "title": {
           "text": "Size"
          }
         },
         "yaxis": {
          "ticktext": [
           1,
           2,
           3,
           4
          ],
          "tickvals": [
           1,
           2,
           3,
           4
          ],
          "title": {
           "text": "Proc_count"
          }
         },
         "zaxis": {
          "title": {
           "text": "Acceleration"
          }
         }
        },
        "template": {
         "data": {
          "bar": [
           {
            "error_x": {
             "color": "#2a3f5f"
            },
            "error_y": {
             "color": "#2a3f5f"
            },
            "marker": {
             "line": {
              "color": "#E5ECF6",
              "width": 0.5
             },
             "pattern": {
              "fillmode": "overlay",
              "size": 10,
              "solidity": 0.2
             }
            },
            "type": "bar"
           }
          ],
          "barpolar": [
           {
            "marker": {
             "line": {
              "color": "#E5ECF6",
              "width": 0.5
             },
             "pattern": {
              "fillmode": "overlay",
              "size": 10,
              "solidity": 0.2
             }
            },
            "type": "barpolar"
           }
          ],
          "carpet": [
           {
            "aaxis": {
             "endlinecolor": "#2a3f5f",
             "gridcolor": "white",
             "linecolor": "white",
             "minorgridcolor": "white",
             "startlinecolor": "#2a3f5f"
            },
            "baxis": {
             "endlinecolor": "#2a3f5f",
             "gridcolor": "white",
             "linecolor": "white",
             "minorgridcolor": "white",
             "startlinecolor": "#2a3f5f"
            },
            "type": "carpet"
           }
          ],
          "choropleth": [
           {
            "colorbar": {
             "outlinewidth": 0,
             "ticks": ""
            },
            "type": "choropleth"
           }
          ],
          "contour": [
           {
            "colorbar": {
             "outlinewidth": 0,
             "ticks": ""
            },
            "colorscale": [
             [
              0,
              "#0d0887"
             ],
             [
              0.1111111111111111,
              "#46039f"
             ],
             [
              0.2222222222222222,
              "#7201a8"
             ],
             [
              0.3333333333333333,
              "#9c179e"
             ],
             [
              0.4444444444444444,
              "#bd3786"
             ],
             [
              0.5555555555555556,
              "#d8576b"
             ],
             [
              0.6666666666666666,
              "#ed7953"
             ],
             [
              0.7777777777777778,
              "#fb9f3a"
             ],
             [
              0.8888888888888888,
              "#fdca26"
             ],
             [
              1,
              "#f0f921"
             ]
            ],
            "type": "contour"
           }
          ],
          "contourcarpet": [
           {
            "colorbar": {
             "outlinewidth": 0,
             "ticks": ""
            },
            "type": "contourcarpet"
           }
          ],
          "heatmap": [
           {
            "colorbar": {
             "outlinewidth": 0,
             "ticks": ""
            },
            "colorscale": [
             [
              0,
              "#0d0887"
             ],
             [
              0.1111111111111111,
              "#46039f"
             ],
             [
              0.2222222222222222,
              "#7201a8"
             ],
             [
              0.3333333333333333,
              "#9c179e"
             ],
             [
              0.4444444444444444,
              "#bd3786"
             ],
             [
              0.5555555555555556,
              "#d8576b"
             ],
             [
              0.6666666666666666,
              "#ed7953"
             ],
             [
              0.7777777777777778,
              "#fb9f3a"
             ],
             [
              0.8888888888888888,
              "#fdca26"
             ],
             [
              1,
              "#f0f921"
             ]
            ],
            "type": "heatmap"
           }
          ],
          "heatmapgl": [
           {
            "colorbar": {
             "outlinewidth": 0,
             "ticks": ""
            },
            "colorscale": [
             [
              0,
              "#0d0887"
             ],
             [
              0.1111111111111111,
              "#46039f"
             ],
             [
              0.2222222222222222,
              "#7201a8"
             ],
             [
              0.3333333333333333,
              "#9c179e"
             ],
             [
              0.4444444444444444,
              "#bd3786"
             ],
             [
              0.5555555555555556,
              "#d8576b"
             ],
             [
              0.6666666666666666,
              "#ed7953"
             ],
             [
              0.7777777777777778,
              "#fb9f3a"
             ],
             [
              0.8888888888888888,
              "#fdca26"
             ],
             [
              1,
              "#f0f921"
             ]
            ],
            "type": "heatmapgl"
           }
          ],
          "histogram": [
           {
            "marker": {
             "pattern": {
              "fillmode": "overlay",
              "size": 10,
              "solidity": 0.2
             }
            },
            "type": "histogram"
           }
          ],
          "histogram2d": [
           {
            "colorbar": {
             "outlinewidth": 0,
             "ticks": ""
            },
            "colorscale": [
             [
              0,
              "#0d0887"
             ],
             [
              0.1111111111111111,
              "#46039f"
             ],
             [
              0.2222222222222222,
              "#7201a8"
             ],
             [
              0.3333333333333333,
              "#9c179e"
             ],
             [
              0.4444444444444444,
              "#bd3786"
             ],
             [
              0.5555555555555556,
              "#d8576b"
             ],
             [
              0.6666666666666666,
              "#ed7953"
             ],
             [
              0.7777777777777778,
              "#fb9f3a"
             ],
             [
              0.8888888888888888,
              "#fdca26"
             ],
             [
              1,
              "#f0f921"
             ]
            ],
            "type": "histogram2d"
           }
          ],
          "histogram2dcontour": [
           {
            "colorbar": {
             "outlinewidth": 0,
             "ticks": ""
            },
            "colorscale": [
             [
              0,
              "#0d0887"
             ],
             [
              0.1111111111111111,
              "#46039f"
             ],
             [
              0.2222222222222222,
              "#7201a8"
             ],
             [
              0.3333333333333333,
              "#9c179e"
             ],
             [
              0.4444444444444444,
              "#bd3786"
             ],
             [
              0.5555555555555556,
              "#d8576b"
             ],
             [
              0.6666666666666666,
              "#ed7953"
             ],
             [
              0.7777777777777778,
              "#fb9f3a"
             ],
             [
              0.8888888888888888,
              "#fdca26"
             ],
             [
              1,
              "#f0f921"
             ]
            ],
            "type": "histogram2dcontour"
           }
          ],
          "mesh3d": [
           {
            "colorbar": {
             "outlinewidth": 0,
             "ticks": ""
            },
            "type": "mesh3d"
           }
          ],
          "parcoords": [
           {
            "line": {
             "colorbar": {
              "outlinewidth": 0,
              "ticks": ""
             }
            },
            "type": "parcoords"
           }
          ],
          "pie": [
           {
            "automargin": true,
            "type": "pie"
           }
          ],
          "scatter": [
           {
            "marker": {
             "colorbar": {
              "outlinewidth": 0,
              "ticks": ""
             }
            },
            "type": "scatter"
           }
          ],
          "scatter3d": [
           {
            "line": {
             "colorbar": {
              "outlinewidth": 0,
              "ticks": ""
             }
            },
            "marker": {
             "colorbar": {
              "outlinewidth": 0,
              "ticks": ""
             }
            },
            "type": "scatter3d"
           }
          ],
          "scattercarpet": [
           {
            "marker": {
             "colorbar": {
              "outlinewidth": 0,
              "ticks": ""
             }
            },
            "type": "scattercarpet"
           }
          ],
          "scattergeo": [
           {
            "marker": {
             "colorbar": {
              "outlinewidth": 0,
              "ticks": ""
             }
            },
            "type": "scattergeo"
           }
          ],
          "scattergl": [
           {
            "marker": {
             "colorbar": {
              "outlinewidth": 0,
              "ticks": ""
             }
            },
            "type": "scattergl"
           }
          ],
          "scattermapbox": [
           {
            "marker": {
             "colorbar": {
              "outlinewidth": 0,
              "ticks": ""
             }
            },
            "type": "scattermapbox"
           }
          ],
          "scatterpolar": [
           {
            "marker": {
             "colorbar": {
              "outlinewidth": 0,
              "ticks": ""
             }
            },
            "type": "scatterpolar"
           }
          ],
          "scatterpolargl": [
           {
            "marker": {
             "colorbar": {
              "outlinewidth": 0,
              "ticks": ""
             }
            },
            "type": "scatterpolargl"
           }
          ],
          "scatterternary": [
           {
            "marker": {
             "colorbar": {
              "outlinewidth": 0,
              "ticks": ""
             }
            },
            "type": "scatterternary"
           }
          ],
          "surface": [
           {
            "colorbar": {
             "outlinewidth": 0,
             "ticks": ""
            },
            "colorscale": [
             [
              0,
              "#0d0887"
             ],
             [
              0.1111111111111111,
              "#46039f"
             ],
             [
              0.2222222222222222,
              "#7201a8"
             ],
             [
              0.3333333333333333,
              "#9c179e"
             ],
             [
              0.4444444444444444,
              "#bd3786"
             ],
             [
              0.5555555555555556,
              "#d8576b"
             ],
             [
              0.6666666666666666,
              "#ed7953"
             ],
             [
              0.7777777777777778,
              "#fb9f3a"
             ],
             [
              0.8888888888888888,
              "#fdca26"
             ],
             [
              1,
              "#f0f921"
             ]
            ],
            "type": "surface"
           }
          ],
          "table": [
           {
            "cells": {
             "fill": {
              "color": "#EBF0F8"
             },
             "line": {
              "color": "white"
             }
            },
            "header": {
             "fill": {
              "color": "#C8D4E3"
             },
             "line": {
              "color": "white"
             }
            },
            "type": "table"
           }
          ]
         },
         "layout": {
          "annotationdefaults": {
           "arrowcolor": "#2a3f5f",
           "arrowhead": 0,
           "arrowwidth": 1
          },
          "autotypenumbers": "strict",
          "coloraxis": {
           "colorbar": {
            "outlinewidth": 0,
            "ticks": ""
           }
          },
          "colorscale": {
           "diverging": [
            [
             0,
             "#8e0152"
            ],
            [
             0.1,
             "#c51b7d"
            ],
            [
             0.2,
             "#de77ae"
            ],
            [
             0.3,
             "#f1b6da"
            ],
            [
             0.4,
             "#fde0ef"
            ],
            [
             0.5,
             "#f7f7f7"
            ],
            [
             0.6,
             "#e6f5d0"
            ],
            [
             0.7,
             "#b8e186"
            ],
            [
             0.8,
             "#7fbc41"
            ],
            [
             0.9,
             "#4d9221"
            ],
            [
             1,
             "#276419"
            ]
           ],
           "sequential": [
            [
             0,
             "#0d0887"
            ],
            [
             0.1111111111111111,
             "#46039f"
            ],
            [
             0.2222222222222222,
             "#7201a8"
            ],
            [
             0.3333333333333333,
             "#9c179e"
            ],
            [
             0.4444444444444444,
             "#bd3786"
            ],
            [
             0.5555555555555556,
             "#d8576b"
            ],
            [
             0.6666666666666666,
             "#ed7953"
            ],
            [
             0.7777777777777778,
             "#fb9f3a"
            ],
            [
             0.8888888888888888,
             "#fdca26"
            ],
            [
             1,
             "#f0f921"
            ]
           ],
           "sequentialminus": [
            [
             0,
             "#0d0887"
            ],
            [
             0.1111111111111111,
             "#46039f"
            ],
            [
             0.2222222222222222,
             "#7201a8"
            ],
            [
             0.3333333333333333,
             "#9c179e"
            ],
            [
             0.4444444444444444,
             "#bd3786"
            ],
            [
             0.5555555555555556,
             "#d8576b"
            ],
            [
             0.6666666666666666,
             "#ed7953"
            ],
            [
             0.7777777777777778,
             "#fb9f3a"
            ],
            [
             0.8888888888888888,
             "#fdca26"
            ],
            [
             1,
             "#f0f921"
            ]
           ]
          },
          "colorway": [
           "#636efa",
           "#EF553B",
           "#00cc96",
           "#ab63fa",
           "#FFA15A",
           "#19d3f3",
           "#FF6692",
           "#B6E880",
           "#FF97FF",
           "#FECB52"
          ],
          "font": {
           "color": "#2a3f5f"
          },
          "geo": {
           "bgcolor": "white",
           "lakecolor": "white",
           "landcolor": "#E5ECF6",
           "showlakes": true,
           "showland": true,
           "subunitcolor": "white"
          },
          "hoverlabel": {
           "align": "left"
          },
          "hovermode": "closest",
          "mapbox": {
           "style": "light"
          },
          "paper_bgcolor": "white",
          "plot_bgcolor": "#E5ECF6",
          "polar": {
           "angularaxis": {
            "gridcolor": "white",
            "linecolor": "white",
            "ticks": ""
           },
           "bgcolor": "#E5ECF6",
           "radialaxis": {
            "gridcolor": "white",
            "linecolor": "white",
            "ticks": ""
           }
          },
          "scene": {
           "xaxis": {
            "backgroundcolor": "#E5ECF6",
            "gridcolor": "white",
            "gridwidth": 2,
            "linecolor": "white",
            "showbackground": true,
            "ticks": "",
            "zerolinecolor": "white"
           },
           "yaxis": {
            "backgroundcolor": "#E5ECF6",
            "gridcolor": "white",
            "gridwidth": 2,
            "linecolor": "white",
            "showbackground": true,
            "ticks": "",
            "zerolinecolor": "white"
           },
           "zaxis": {
            "backgroundcolor": "#E5ECF6",
            "gridcolor": "white",
            "gridwidth": 2,
            "linecolor": "white",
            "showbackground": true,
            "ticks": "",
            "zerolinecolor": "white"
           }
          },
          "shapedefaults": {
           "line": {
            "color": "#2a3f5f"
           }
          },
          "ternary": {
           "aaxis": {
            "gridcolor": "white",
            "linecolor": "white",
            "ticks": ""
           },
           "baxis": {
            "gridcolor": "white",
            "linecolor": "white",
            "ticks": ""
           },
           "bgcolor": "#E5ECF6",
           "caxis": {
            "gridcolor": "white",
            "linecolor": "white",
            "ticks": ""
           }
          },
          "title": {
           "x": 0.05
          },
          "xaxis": {
           "automargin": true,
           "gridcolor": "white",
           "linecolor": "white",
           "ticks": "",
           "title": {
            "standoff": 15
           },
           "zerolinecolor": "white",
           "zerolinewidth": 2
          },
          "yaxis": {
           "automargin": true,
           "gridcolor": "white",
           "linecolor": "white",
           "ticks": "",
           "title": {
            "standoff": 15
           },
           "zerolinecolor": "white",
           "zerolinewidth": 2
          }
         }
        },
        "title": {
         "text": "Numba"
        },
        "width": 800
       }
      },
      "text/html": [
       "<div>                            <div id=\"6714a48f-34dd-41af-9e70-c8e5605735e5\" class=\"plotly-graph-div\" style=\"height:400px; width:800px;\"></div>            <script type=\"text/javascript\">                require([\"plotly\"], function(Plotly) {                    window.PLOTLYENV=window.PLOTLYENV || {};                                    if (document.getElementById(\"6714a48f-34dd-41af-9e70-c8e5605735e5\")) {                    Plotly.newPlot(                        \"6714a48f-34dd-41af-9e70-c8e5605735e5\",                        [{\"contours\":{\"z\":{\"color\":\"white\",\"end\":2,\"show\":true,\"size\":0.1,\"start\":0.0}},\"x\":[8,9,10,11],\"y\":[1,2,3,4],\"z\":[[1.0,1.0,1.0,1.0],[1.3849158639509103,1.619952770160135,1.6089486441901444,2.1228652407306248],[1.103425733270564,1.6924328041501306,1.8289843495369351,2.31187378672815],[0.9717883797310071,1.8768942496478673,1.9577249265788397,1.8164489292023849]],\"type\":\"surface\"}],                        {\"template\":{\"data\":{\"bar\":[{\"error_x\":{\"color\":\"#2a3f5f\"},\"error_y\":{\"color\":\"#2a3f5f\"},\"marker\":{\"line\":{\"color\":\"#E5ECF6\",\"width\":0.5},\"pattern\":{\"fillmode\":\"overlay\",\"size\":10,\"solidity\":0.2}},\"type\":\"bar\"}],\"barpolar\":[{\"marker\":{\"line\":{\"color\":\"#E5ECF6\",\"width\":0.5},\"pattern\":{\"fillmode\":\"overlay\",\"size\":10,\"solidity\":0.2}},\"type\":\"barpolar\"}],\"carpet\":[{\"aaxis\":{\"endlinecolor\":\"#2a3f5f\",\"gridcolor\":\"white\",\"linecolor\":\"white\",\"minorgridcolor\":\"white\",\"startlinecolor\":\"#2a3f5f\"},\"baxis\":{\"endlinecolor\":\"#2a3f5f\",\"gridcolor\":\"white\",\"linecolor\":\"white\",\"minorgridcolor\":\"white\",\"startlinecolor\":\"#2a3f5f\"},\"type\":\"carpet\"}],\"choropleth\":[{\"colorbar\":{\"outlinewidth\":0,\"ticks\":\"\"},\"type\":\"choropleth\"}],\"contour\":[{\"colorbar\":{\"outlinewidth\":0,\"ticks\":\"\"},\"colorscale\":[[0.0,\"#0d0887\"],[0.1111111111111111,\"#46039f\"],[0.2222222222222222,\"#7201a8\"],[0.3333333333333333,\"#9c179e\"],[0.4444444444444444,\"#bd3786\"],[0.5555555555555556,\"#d8576b\"],[0.6666666666666666,\"#ed7953\"],[0.7777777777777778,\"#fb9f3a\"],[0.8888888888888888,\"#fdca26\"],[1.0,\"#f0f921\"]],\"type\":\"contour\"}],\"contourcarpet\":[{\"colorbar\":{\"outlinewidth\":0,\"ticks\":\"\"},\"type\":\"contourcarpet\"}],\"heatmap\":[{\"colorbar\":{\"outlinewidth\":0,\"ticks\":\"\"},\"colorscale\":[[0.0,\"#0d0887\"],[0.1111111111111111,\"#46039f\"],[0.2222222222222222,\"#7201a8\"],[0.3333333333333333,\"#9c179e\"],[0.4444444444444444,\"#bd3786\"],[0.5555555555555556,\"#d8576b\"],[0.6666666666666666,\"#ed7953\"],[0.7777777777777778,\"#fb9f3a\"],[0.8888888888888888,\"#fdca26\"],[1.0,\"#f0f921\"]],\"type\":\"heatmap\"}],\"heatmapgl\":[{\"colorbar\":{\"outlinewidth\":0,\"ticks\":\"\"},\"colorscale\":[[0.0,\"#0d0887\"],[0.1111111111111111,\"#46039f\"],[0.2222222222222222,\"#7201a8\"],[0.3333333333333333,\"#9c179e\"],[0.4444444444444444,\"#bd3786\"],[0.5555555555555556,\"#d8576b\"],[0.6666666666666666,\"#ed7953\"],[0.7777777777777778,\"#fb9f3a\"],[0.8888888888888888,\"#fdca26\"],[1.0,\"#f0f921\"]],\"type\":\"heatmapgl\"}],\"histogram\":[{\"marker\":{\"pattern\":{\"fillmode\":\"overlay\",\"size\":10,\"solidity\":0.2}},\"type\":\"histogram\"}],\"histogram2d\":[{\"colorbar\":{\"outlinewidth\":0,\"ticks\":\"\"},\"colorscale\":[[0.0,\"#0d0887\"],[0.1111111111111111,\"#46039f\"],[0.2222222222222222,\"#7201a8\"],[0.3333333333333333,\"#9c179e\"],[0.4444444444444444,\"#bd3786\"],[0.5555555555555556,\"#d8576b\"],[0.6666666666666666,\"#ed7953\"],[0.7777777777777778,\"#fb9f3a\"],[0.8888888888888888,\"#fdca26\"],[1.0,\"#f0f921\"]],\"type\":\"histogram2d\"}],\"histogram2dcontour\":[{\"colorbar\":{\"outlinewidth\":0,\"ticks\":\"\"},\"colorscale\":[[0.0,\"#0d0887\"],[0.1111111111111111,\"#46039f\"],[0.2222222222222222,\"#7201a8\"],[0.3333333333333333,\"#9c179e\"],[0.4444444444444444,\"#bd3786\"],[0.5555555555555556,\"#d8576b\"],[0.6666666666666666,\"#ed7953\"],[0.7777777777777778,\"#fb9f3a\"],[0.8888888888888888,\"#fdca26\"],[1.0,\"#f0f921\"]],\"type\":\"histogram2dcontour\"}],\"mesh3d\":[{\"colorbar\":{\"outlinewidth\":0,\"ticks\":\"\"},\"type\":\"mesh3d\"}],\"parcoords\":[{\"line\":{\"colorbar\":{\"outlinewidth\":0,\"ticks\":\"\"}},\"type\":\"parcoords\"}],\"pie\":[{\"automargin\":true,\"type\":\"pie\"}],\"scatter\":[{\"marker\":{\"colorbar\":{\"outlinewidth\":0,\"ticks\":\"\"}},\"type\":\"scatter\"}],\"scatter3d\":[{\"line\":{\"colorbar\":{\"outlinewidth\":0,\"ticks\":\"\"}},\"marker\":{\"colorbar\":{\"outlinewidth\":0,\"ticks\":\"\"}},\"type\":\"scatter3d\"}],\"scattercarpet\":[{\"marker\":{\"colorbar\":{\"outlinewidth\":0,\"ticks\":\"\"}},\"type\":\"scattercarpet\"}],\"scattergeo\":[{\"marker\":{\"colorbar\":{\"outlinewidth\":0,\"ticks\":\"\"}},\"type\":\"scattergeo\"}],\"scattergl\":[{\"marker\":{\"colorbar\":{\"outlinewidth\":0,\"ticks\":\"\"}},\"type\":\"scattergl\"}],\"scattermapbox\":[{\"marker\":{\"colorbar\":{\"outlinewidth\":0,\"ticks\":\"\"}},\"type\":\"scattermapbox\"}],\"scatterpolar\":[{\"marker\":{\"colorbar\":{\"outlinewidth\":0,\"ticks\":\"\"}},\"type\":\"scatterpolar\"}],\"scatterpolargl\":[{\"marker\":{\"colorbar\":{\"outlinewidth\":0,\"ticks\":\"\"}},\"type\":\"scatterpolargl\"}],\"scatterternary\":[{\"marker\":{\"colorbar\":{\"outlinewidth\":0,\"ticks\":\"\"}},\"type\":\"scatterternary\"}],\"surface\":[{\"colorbar\":{\"outlinewidth\":0,\"ticks\":\"\"},\"colorscale\":[[0.0,\"#0d0887\"],[0.1111111111111111,\"#46039f\"],[0.2222222222222222,\"#7201a8\"],[0.3333333333333333,\"#9c179e\"],[0.4444444444444444,\"#bd3786\"],[0.5555555555555556,\"#d8576b\"],[0.6666666666666666,\"#ed7953\"],[0.7777777777777778,\"#fb9f3a\"],[0.8888888888888888,\"#fdca26\"],[1.0,\"#f0f921\"]],\"type\":\"surface\"}],\"table\":[{\"cells\":{\"fill\":{\"color\":\"#EBF0F8\"},\"line\":{\"color\":\"white\"}},\"header\":{\"fill\":{\"color\":\"#C8D4E3\"},\"line\":{\"color\":\"white\"}},\"type\":\"table\"}]},\"layout\":{\"annotationdefaults\":{\"arrowcolor\":\"#2a3f5f\",\"arrowhead\":0,\"arrowwidth\":1},\"autotypenumbers\":\"strict\",\"coloraxis\":{\"colorbar\":{\"outlinewidth\":0,\"ticks\":\"\"}},\"colorscale\":{\"diverging\":[[0,\"#8e0152\"],[0.1,\"#c51b7d\"],[0.2,\"#de77ae\"],[0.3,\"#f1b6da\"],[0.4,\"#fde0ef\"],[0.5,\"#f7f7f7\"],[0.6,\"#e6f5d0\"],[0.7,\"#b8e186\"],[0.8,\"#7fbc41\"],[0.9,\"#4d9221\"],[1,\"#276419\"]],\"sequential\":[[0.0,\"#0d0887\"],[0.1111111111111111,\"#46039f\"],[0.2222222222222222,\"#7201a8\"],[0.3333333333333333,\"#9c179e\"],[0.4444444444444444,\"#bd3786\"],[0.5555555555555556,\"#d8576b\"],[0.6666666666666666,\"#ed7953\"],[0.7777777777777778,\"#fb9f3a\"],[0.8888888888888888,\"#fdca26\"],[1.0,\"#f0f921\"]],\"sequentialminus\":[[0.0,\"#0d0887\"],[0.1111111111111111,\"#46039f\"],[0.2222222222222222,\"#7201a8\"],[0.3333333333333333,\"#9c179e\"],[0.4444444444444444,\"#bd3786\"],[0.5555555555555556,\"#d8576b\"],[0.6666666666666666,\"#ed7953\"],[0.7777777777777778,\"#fb9f3a\"],[0.8888888888888888,\"#fdca26\"],[1.0,\"#f0f921\"]]},\"colorway\":[\"#636efa\",\"#EF553B\",\"#00cc96\",\"#ab63fa\",\"#FFA15A\",\"#19d3f3\",\"#FF6692\",\"#B6E880\",\"#FF97FF\",\"#FECB52\"],\"font\":{\"color\":\"#2a3f5f\"},\"geo\":{\"bgcolor\":\"white\",\"lakecolor\":\"white\",\"landcolor\":\"#E5ECF6\",\"showlakes\":true,\"showland\":true,\"subunitcolor\":\"white\"},\"hoverlabel\":{\"align\":\"left\"},\"hovermode\":\"closest\",\"mapbox\":{\"style\":\"light\"},\"paper_bgcolor\":\"white\",\"plot_bgcolor\":\"#E5ECF6\",\"polar\":{\"angularaxis\":{\"gridcolor\":\"white\",\"linecolor\":\"white\",\"ticks\":\"\"},\"bgcolor\":\"#E5ECF6\",\"radialaxis\":{\"gridcolor\":\"white\",\"linecolor\":\"white\",\"ticks\":\"\"}},\"scene\":{\"xaxis\":{\"backgroundcolor\":\"#E5ECF6\",\"gridcolor\":\"white\",\"gridwidth\":2,\"linecolor\":\"white\",\"showbackground\":true,\"ticks\":\"\",\"zerolinecolor\":\"white\"},\"yaxis\":{\"backgroundcolor\":\"#E5ECF6\",\"gridcolor\":\"white\",\"gridwidth\":2,\"linecolor\":\"white\",\"showbackground\":true,\"ticks\":\"\",\"zerolinecolor\":\"white\"},\"zaxis\":{\"backgroundcolor\":\"#E5ECF6\",\"gridcolor\":\"white\",\"gridwidth\":2,\"linecolor\":\"white\",\"showbackground\":true,\"ticks\":\"\",\"zerolinecolor\":\"white\"}},\"shapedefaults\":{\"line\":{\"color\":\"#2a3f5f\"}},\"ternary\":{\"aaxis\":{\"gridcolor\":\"white\",\"linecolor\":\"white\",\"ticks\":\"\"},\"baxis\":{\"gridcolor\":\"white\",\"linecolor\":\"white\",\"ticks\":\"\"},\"bgcolor\":\"#E5ECF6\",\"caxis\":{\"gridcolor\":\"white\",\"linecolor\":\"white\",\"ticks\":\"\"}},\"title\":{\"x\":0.05},\"xaxis\":{\"automargin\":true,\"gridcolor\":\"white\",\"linecolor\":\"white\",\"ticks\":\"\",\"title\":{\"standoff\":15},\"zerolinecolor\":\"white\",\"zerolinewidth\":2},\"yaxis\":{\"automargin\":true,\"gridcolor\":\"white\",\"linecolor\":\"white\",\"ticks\":\"\",\"title\":{\"standoff\":15},\"zerolinecolor\":\"white\",\"zerolinewidth\":2}}},\"margin\":{\"r\":5,\"b\":50,\"l\":5,\"t\":30},\"title\":{\"text\":\"Numba\"},\"scene\":{\"xaxis\":{\"title\":{\"text\":\"Size\"},\"tickvals\":[8,9,10,11],\"ticktext\":[256,512,1024,2048]},\"yaxis\":{\"title\":{\"text\":\"Proc_count\"},\"tickvals\":[1,2,3,4],\"ticktext\":[1,2,3,4]},\"zaxis\":{\"title\":{\"text\":\"Acceleration\"}}},\"width\":800,\"height\":400},                        {\"responsive\": true}                    ).then(function(){\n",
       "                            \n",
       "var gd = document.getElementById('6714a48f-34dd-41af-9e70-c8e5605735e5');\n",
       "var x = new MutationObserver(function (mutations, observer) {{\n",
       "        var display = window.getComputedStyle(gd).display;\n",
       "        if (!display || display === 'none') {{\n",
       "            console.log([gd, 'removed!']);\n",
       "            Plotly.purge(gd);\n",
       "            observer.disconnect();\n",
       "        }}\n",
       "}});\n",
       "\n",
       "// Listen for the removal of the full notebook cells\n",
       "var notebookContainer = gd.closest('#notebook-container');\n",
       "if (notebookContainer) {{\n",
       "    x.observe(notebookContainer, {childList: true});\n",
       "}}\n",
       "\n",
       "// Listen for the clearing of the current output cell\n",
       "var outputEl = gd.closest('.output');\n",
       "if (outputEl) {{\n",
       "    x.observe(outputEl, {childList: true});\n",
       "}}\n",
       "\n",
       "                        })                };                });            </script>        </div>"
      ]
     },
     "metadata": {},
     "output_type": "display_data"
    }
   ],
   "source": [
    "sizes = [256, 512, 1024, 2048]\n",
    "log2_sizes = [int(np.log2(size)) for size in sizes]\n",
    "proc_counts = [1, 2, 3, 4]\n",
    "\n",
    "fig = go.Figure(go.Surface(\n",
    "    contours = {\n",
    "        \"z\": {\"show\": True, \"start\": 0.0, \"end\": 2, \"size\": 0.1, 'color':'white'}\n",
    "    },\n",
    "    x = log2_sizes,\n",
    "    y = proc_counts,\n",
    "    z = res2_nb.T))\n",
    "\n",
    "fig.update_layout(\n",
    "    title='Numba',\n",
    "    scene = dict(\n",
    "        xaxis_title=r'Size',\n",
    "        yaxis_title='Proc_count',\n",
    "        zaxis_title='Acceleration'),\n",
    "        margin=dict(r=5, b=50, l=5, t=30))\n",
    "\n",
    "fig.update_layout(\n",
    "    width=800, height=400,\n",
    "    scene = dict(\n",
    "        xaxis = dict(tickvals=log2_sizes, ticktext=sizes),\n",
    "        yaxis = dict(tickvals=proc_counts, ticktext=proc_counts))\n",
    ")\n",
    "\n",
    "fig.show()"
   ]
  },
  {
   "cell_type": "markdown",
   "id": "0385635d",
   "metadata": {},
   "source": [
    "## 4. mpi4py"
   ]
  },
  {
   "cell_type": "code",
   "execution_count": 19,
   "id": "96948873",
   "metadata": {},
   "outputs": [
    {
     "name": "stdout",
     "output_type": "stream",
     "text": [
      "size \tnodes\ttime (s.)\n",
      "---------------------------------\n",
      "256  \t    1\t0.079626 \n",
      "256  \t    2\t0.076256 \n",
      "256  \t    4\t0.094513 \n",
      "\n",
      "512  \t    1\t0.320225 \n",
      "512  \t    2\t0.268936 \n",
      "512  \t    4\t0.274099 \n",
      "\n",
      "1024 \t    1\t1.391755 \n",
      "1024 \t    2\t0.994920 \n",
      "1024 \t    4\t0.914211 \n",
      "\n",
      "2048 \t    1\t6.512434 \n",
      "2048 \t    2\t4.073215 \n",
      "2048 \t    4\t2.940824 \n"
     ]
    }
   ],
   "source": [
    "sizes = np.array([256, 512, 1024, 2048])\n",
    "proc_counts = np.array([2**x for x in range(3)])\n",
    "\n",
    "fname = 'mpi/RESULTS_nodes.txt'\n",
    "f = open(fname, 'r')\n",
    "\n",
    "for line in f:\n",
    "    print(line, end='')"
   ]
  },
  {
   "cell_type": "code",
   "execution_count": 20,
   "id": "e0c00ad1",
   "metadata": {},
   "outputs": [],
   "source": [
    "mpi_res = np.empty((sizes.shape[0], proc_counts.shape[0]))\n",
    "\n",
    "f = open(fname, 'r')\n",
    "f.readline()\n",
    "f.readline()\n",
    "for line in f:\n",
    "    line = line.split()\n",
    "    if len(line) > 0:\n",
    "        size, proc_count = list(map(int, line[:-1]))\n",
    "        t = float(line[2])\n",
    "        i = int(np.log2(size) - 8)\n",
    "        j = int(np.log2(proc_count))\n",
    "        mpi_res[i, j] = t\n",
    "# mpi_res"
   ]
  },
  {
   "cell_type": "code",
   "execution_count": 36,
   "id": "e317bb2d",
   "metadata": {},
   "outputs": [
    {
     "data": {
      "text/plain": [
       "array([[1.        , 1.04419324, 0.84248728],\n",
       "       [1.        , 1.1907108 , 1.16828226],\n",
       "       [1.        , 1.39886121, 1.52235644],\n",
       "       [1.        , 1.59884367, 2.21449294]])"
      ]
     },
     "execution_count": 36,
     "metadata": {},
     "output_type": "execute_result"
    }
   ],
   "source": [
    "mpi_res2 = np.zeros(mpi_res.shape)\n",
    "for i in range(mpi_res2.shape[0]):\n",
    "    for j in range(mpi_res2.shape[1]):\n",
    "        mpi_res2[i, j] = mpi_res[i, 0] / mpi_res[i, j]\n",
    "mpi_res2"
   ]
  },
  {
   "cell_type": "code",
   "execution_count": 33,
   "id": "f5b9317c",
   "metadata": {},
   "outputs": [
    {
     "data": {
      "application/vnd.plotly.v1+json": {
       "config": {
        "plotlyServerURL": "https://plot.ly"
       },
       "data": [
        {
         "contours": {
          "z": {
           "color": "white",
           "end": 2,
           "show": true,
           "size": 0.1,
           "start": 0
          }
         },
         "type": "surface",
         "x": [
          8,
          9,
          10,
          11
         ],
         "y": [
          0,
          1,
          2
         ],
         "z": [
          [
           1,
           1,
           1,
           1
          ],
          [
           1.0441932438103232,
           1.1907108010827854,
           1.398861214972058,
           1.5988436652619613
          ],
          [
           0.8424872768825453,
           1.1682822629779752,
           1.5223564363150301,
           2.2144929448345088
          ]
         ]
        }
       ],
       "layout": {
        "height": 400,
        "margin": {
         "b": 50,
         "l": 5,
         "r": 5,
         "t": 30
        },
        "scene": {
         "xaxis": {
          "ticktext": [
           256,
           512,
           1024,
           2048
          ],
          "tickvals": [
           8,
           9,
           10,
           11
          ],
          "title": {
           "text": "Size"
          }
         },
         "yaxis": {
          "ticktext": [
           1,
           2,
           4
          ],
          "tickvals": [
           0,
           1,
           2
          ],
          "title": {
           "text": "Node_count"
          }
         },
         "zaxis": {
          "title": {
           "text": "Acceleration"
          }
         }
        },
        "template": {
         "data": {
          "bar": [
           {
            "error_x": {
             "color": "#2a3f5f"
            },
            "error_y": {
             "color": "#2a3f5f"
            },
            "marker": {
             "line": {
              "color": "#E5ECF6",
              "width": 0.5
             },
             "pattern": {
              "fillmode": "overlay",
              "size": 10,
              "solidity": 0.2
             }
            },
            "type": "bar"
           }
          ],
          "barpolar": [
           {
            "marker": {
             "line": {
              "color": "#E5ECF6",
              "width": 0.5
             },
             "pattern": {
              "fillmode": "overlay",
              "size": 10,
              "solidity": 0.2
             }
            },
            "type": "barpolar"
           }
          ],
          "carpet": [
           {
            "aaxis": {
             "endlinecolor": "#2a3f5f",
             "gridcolor": "white",
             "linecolor": "white",
             "minorgridcolor": "white",
             "startlinecolor": "#2a3f5f"
            },
            "baxis": {
             "endlinecolor": "#2a3f5f",
             "gridcolor": "white",
             "linecolor": "white",
             "minorgridcolor": "white",
             "startlinecolor": "#2a3f5f"
            },
            "type": "carpet"
           }
          ],
          "choropleth": [
           {
            "colorbar": {
             "outlinewidth": 0,
             "ticks": ""
            },
            "type": "choropleth"
           }
          ],
          "contour": [
           {
            "colorbar": {
             "outlinewidth": 0,
             "ticks": ""
            },
            "colorscale": [
             [
              0,
              "#0d0887"
             ],
             [
              0.1111111111111111,
              "#46039f"
             ],
             [
              0.2222222222222222,
              "#7201a8"
             ],
             [
              0.3333333333333333,
              "#9c179e"
             ],
             [
              0.4444444444444444,
              "#bd3786"
             ],
             [
              0.5555555555555556,
              "#d8576b"
             ],
             [
              0.6666666666666666,
              "#ed7953"
             ],
             [
              0.7777777777777778,
              "#fb9f3a"
             ],
             [
              0.8888888888888888,
              "#fdca26"
             ],
             [
              1,
              "#f0f921"
             ]
            ],
            "type": "contour"
           }
          ],
          "contourcarpet": [
           {
            "colorbar": {
             "outlinewidth": 0,
             "ticks": ""
            },
            "type": "contourcarpet"
           }
          ],
          "heatmap": [
           {
            "colorbar": {
             "outlinewidth": 0,
             "ticks": ""
            },
            "colorscale": [
             [
              0,
              "#0d0887"
             ],
             [
              0.1111111111111111,
              "#46039f"
             ],
             [
              0.2222222222222222,
              "#7201a8"
             ],
             [
              0.3333333333333333,
              "#9c179e"
             ],
             [
              0.4444444444444444,
              "#bd3786"
             ],
             [
              0.5555555555555556,
              "#d8576b"
             ],
             [
              0.6666666666666666,
              "#ed7953"
             ],
             [
              0.7777777777777778,
              "#fb9f3a"
             ],
             [
              0.8888888888888888,
              "#fdca26"
             ],
             [
              1,
              "#f0f921"
             ]
            ],
            "type": "heatmap"
           }
          ],
          "heatmapgl": [
           {
            "colorbar": {
             "outlinewidth": 0,
             "ticks": ""
            },
            "colorscale": [
             [
              0,
              "#0d0887"
             ],
             [
              0.1111111111111111,
              "#46039f"
             ],
             [
              0.2222222222222222,
              "#7201a8"
             ],
             [
              0.3333333333333333,
              "#9c179e"
             ],
             [
              0.4444444444444444,
              "#bd3786"
             ],
             [
              0.5555555555555556,
              "#d8576b"
             ],
             [
              0.6666666666666666,
              "#ed7953"
             ],
             [
              0.7777777777777778,
              "#fb9f3a"
             ],
             [
              0.8888888888888888,
              "#fdca26"
             ],
             [
              1,
              "#f0f921"
             ]
            ],
            "type": "heatmapgl"
           }
          ],
          "histogram": [
           {
            "marker": {
             "pattern": {
              "fillmode": "overlay",
              "size": 10,
              "solidity": 0.2
             }
            },
            "type": "histogram"
           }
          ],
          "histogram2d": [
           {
            "colorbar": {
             "outlinewidth": 0,
             "ticks": ""
            },
            "colorscale": [
             [
              0,
              "#0d0887"
             ],
             [
              0.1111111111111111,
              "#46039f"
             ],
             [
              0.2222222222222222,
              "#7201a8"
             ],
             [
              0.3333333333333333,
              "#9c179e"
             ],
             [
              0.4444444444444444,
              "#bd3786"
             ],
             [
              0.5555555555555556,
              "#d8576b"
             ],
             [
              0.6666666666666666,
              "#ed7953"
             ],
             [
              0.7777777777777778,
              "#fb9f3a"
             ],
             [
              0.8888888888888888,
              "#fdca26"
             ],
             [
              1,
              "#f0f921"
             ]
            ],
            "type": "histogram2d"
           }
          ],
          "histogram2dcontour": [
           {
            "colorbar": {
             "outlinewidth": 0,
             "ticks": ""
            },
            "colorscale": [
             [
              0,
              "#0d0887"
             ],
             [
              0.1111111111111111,
              "#46039f"
             ],
             [
              0.2222222222222222,
              "#7201a8"
             ],
             [
              0.3333333333333333,
              "#9c179e"
             ],
             [
              0.4444444444444444,
              "#bd3786"
             ],
             [
              0.5555555555555556,
              "#d8576b"
             ],
             [
              0.6666666666666666,
              "#ed7953"
             ],
             [
              0.7777777777777778,
              "#fb9f3a"
             ],
             [
              0.8888888888888888,
              "#fdca26"
             ],
             [
              1,
              "#f0f921"
             ]
            ],
            "type": "histogram2dcontour"
           }
          ],
          "mesh3d": [
           {
            "colorbar": {
             "outlinewidth": 0,
             "ticks": ""
            },
            "type": "mesh3d"
           }
          ],
          "parcoords": [
           {
            "line": {
             "colorbar": {
              "outlinewidth": 0,
              "ticks": ""
             }
            },
            "type": "parcoords"
           }
          ],
          "pie": [
           {
            "automargin": true,
            "type": "pie"
           }
          ],
          "scatter": [
           {
            "marker": {
             "colorbar": {
              "outlinewidth": 0,
              "ticks": ""
             }
            },
            "type": "scatter"
           }
          ],
          "scatter3d": [
           {
            "line": {
             "colorbar": {
              "outlinewidth": 0,
              "ticks": ""
             }
            },
            "marker": {
             "colorbar": {
              "outlinewidth": 0,
              "ticks": ""
             }
            },
            "type": "scatter3d"
           }
          ],
          "scattercarpet": [
           {
            "marker": {
             "colorbar": {
              "outlinewidth": 0,
              "ticks": ""
             }
            },
            "type": "scattercarpet"
           }
          ],
          "scattergeo": [
           {
            "marker": {
             "colorbar": {
              "outlinewidth": 0,
              "ticks": ""
             }
            },
            "type": "scattergeo"
           }
          ],
          "scattergl": [
           {
            "marker": {
             "colorbar": {
              "outlinewidth": 0,
              "ticks": ""
             }
            },
            "type": "scattergl"
           }
          ],
          "scattermapbox": [
           {
            "marker": {
             "colorbar": {
              "outlinewidth": 0,
              "ticks": ""
             }
            },
            "type": "scattermapbox"
           }
          ],
          "scatterpolar": [
           {
            "marker": {
             "colorbar": {
              "outlinewidth": 0,
              "ticks": ""
             }
            },
            "type": "scatterpolar"
           }
          ],
          "scatterpolargl": [
           {
            "marker": {
             "colorbar": {
              "outlinewidth": 0,
              "ticks": ""
             }
            },
            "type": "scatterpolargl"
           }
          ],
          "scatterternary": [
           {
            "marker": {
             "colorbar": {
              "outlinewidth": 0,
              "ticks": ""
             }
            },
            "type": "scatterternary"
           }
          ],
          "surface": [
           {
            "colorbar": {
             "outlinewidth": 0,
             "ticks": ""
            },
            "colorscale": [
             [
              0,
              "#0d0887"
             ],
             [
              0.1111111111111111,
              "#46039f"
             ],
             [
              0.2222222222222222,
              "#7201a8"
             ],
             [
              0.3333333333333333,
              "#9c179e"
             ],
             [
              0.4444444444444444,
              "#bd3786"
             ],
             [
              0.5555555555555556,
              "#d8576b"
             ],
             [
              0.6666666666666666,
              "#ed7953"
             ],
             [
              0.7777777777777778,
              "#fb9f3a"
             ],
             [
              0.8888888888888888,
              "#fdca26"
             ],
             [
              1,
              "#f0f921"
             ]
            ],
            "type": "surface"
           }
          ],
          "table": [
           {
            "cells": {
             "fill": {
              "color": "#EBF0F8"
             },
             "line": {
              "color": "white"
             }
            },
            "header": {
             "fill": {
              "color": "#C8D4E3"
             },
             "line": {
              "color": "white"
             }
            },
            "type": "table"
           }
          ]
         },
         "layout": {
          "annotationdefaults": {
           "arrowcolor": "#2a3f5f",
           "arrowhead": 0,
           "arrowwidth": 1
          },
          "autotypenumbers": "strict",
          "coloraxis": {
           "colorbar": {
            "outlinewidth": 0,
            "ticks": ""
           }
          },
          "colorscale": {
           "diverging": [
            [
             0,
             "#8e0152"
            ],
            [
             0.1,
             "#c51b7d"
            ],
            [
             0.2,
             "#de77ae"
            ],
            [
             0.3,
             "#f1b6da"
            ],
            [
             0.4,
             "#fde0ef"
            ],
            [
             0.5,
             "#f7f7f7"
            ],
            [
             0.6,
             "#e6f5d0"
            ],
            [
             0.7,
             "#b8e186"
            ],
            [
             0.8,
             "#7fbc41"
            ],
            [
             0.9,
             "#4d9221"
            ],
            [
             1,
             "#276419"
            ]
           ],
           "sequential": [
            [
             0,
             "#0d0887"
            ],
            [
             0.1111111111111111,
             "#46039f"
            ],
            [
             0.2222222222222222,
             "#7201a8"
            ],
            [
             0.3333333333333333,
             "#9c179e"
            ],
            [
             0.4444444444444444,
             "#bd3786"
            ],
            [
             0.5555555555555556,
             "#d8576b"
            ],
            [
             0.6666666666666666,
             "#ed7953"
            ],
            [
             0.7777777777777778,
             "#fb9f3a"
            ],
            [
             0.8888888888888888,
             "#fdca26"
            ],
            [
             1,
             "#f0f921"
            ]
           ],
           "sequentialminus": [
            [
             0,
             "#0d0887"
            ],
            [
             0.1111111111111111,
             "#46039f"
            ],
            [
             0.2222222222222222,
             "#7201a8"
            ],
            [
             0.3333333333333333,
             "#9c179e"
            ],
            [
             0.4444444444444444,
             "#bd3786"
            ],
            [
             0.5555555555555556,
             "#d8576b"
            ],
            [
             0.6666666666666666,
             "#ed7953"
            ],
            [
             0.7777777777777778,
             "#fb9f3a"
            ],
            [
             0.8888888888888888,
             "#fdca26"
            ],
            [
             1,
             "#f0f921"
            ]
           ]
          },
          "colorway": [
           "#636efa",
           "#EF553B",
           "#00cc96",
           "#ab63fa",
           "#FFA15A",
           "#19d3f3",
           "#FF6692",
           "#B6E880",
           "#FF97FF",
           "#FECB52"
          ],
          "font": {
           "color": "#2a3f5f"
          },
          "geo": {
           "bgcolor": "white",
           "lakecolor": "white",
           "landcolor": "#E5ECF6",
           "showlakes": true,
           "showland": true,
           "subunitcolor": "white"
          },
          "hoverlabel": {
           "align": "left"
          },
          "hovermode": "closest",
          "mapbox": {
           "style": "light"
          },
          "paper_bgcolor": "white",
          "plot_bgcolor": "#E5ECF6",
          "polar": {
           "angularaxis": {
            "gridcolor": "white",
            "linecolor": "white",
            "ticks": ""
           },
           "bgcolor": "#E5ECF6",
           "radialaxis": {
            "gridcolor": "white",
            "linecolor": "white",
            "ticks": ""
           }
          },
          "scene": {
           "xaxis": {
            "backgroundcolor": "#E5ECF6",
            "gridcolor": "white",
            "gridwidth": 2,
            "linecolor": "white",
            "showbackground": true,
            "ticks": "",
            "zerolinecolor": "white"
           },
           "yaxis": {
            "backgroundcolor": "#E5ECF6",
            "gridcolor": "white",
            "gridwidth": 2,
            "linecolor": "white",
            "showbackground": true,
            "ticks": "",
            "zerolinecolor": "white"
           },
           "zaxis": {
            "backgroundcolor": "#E5ECF6",
            "gridcolor": "white",
            "gridwidth": 2,
            "linecolor": "white",
            "showbackground": true,
            "ticks": "",
            "zerolinecolor": "white"
           }
          },
          "shapedefaults": {
           "line": {
            "color": "#2a3f5f"
           }
          },
          "ternary": {
           "aaxis": {
            "gridcolor": "white",
            "linecolor": "white",
            "ticks": ""
           },
           "baxis": {
            "gridcolor": "white",
            "linecolor": "white",
            "ticks": ""
           },
           "bgcolor": "#E5ECF6",
           "caxis": {
            "gridcolor": "white",
            "linecolor": "white",
            "ticks": ""
           }
          },
          "title": {
           "x": 0.05
          },
          "xaxis": {
           "automargin": true,
           "gridcolor": "white",
           "linecolor": "white",
           "ticks": "",
           "title": {
            "standoff": 15
           },
           "zerolinecolor": "white",
           "zerolinewidth": 2
          },
          "yaxis": {
           "automargin": true,
           "gridcolor": "white",
           "linecolor": "white",
           "ticks": "",
           "title": {
            "standoff": 15
           },
           "zerolinecolor": "white",
           "zerolinewidth": 2
          }
         }
        },
        "title": {
         "text": "mpi4py"
        },
        "width": 800
       }
      },
      "text/html": [
       "<div>                            <div id=\"ad935f7d-7784-4b57-b4b7-dec0518a02fb\" class=\"plotly-graph-div\" style=\"height:400px; width:800px;\"></div>            <script type=\"text/javascript\">                require([\"plotly\"], function(Plotly) {                    window.PLOTLYENV=window.PLOTLYENV || {};                                    if (document.getElementById(\"ad935f7d-7784-4b57-b4b7-dec0518a02fb\")) {                    Plotly.newPlot(                        \"ad935f7d-7784-4b57-b4b7-dec0518a02fb\",                        [{\"contours\":{\"z\":{\"color\":\"white\",\"end\":2,\"show\":true,\"size\":0.1,\"start\":0.0}},\"x\":[8,9,10,11],\"y\":[0,1,2],\"z\":[[1.0,1.0,1.0,1.0],[1.0441932438103232,1.1907108010827854,1.398861214972058,1.5988436652619613],[0.8424872768825453,1.1682822629779752,1.5223564363150301,2.2144929448345088]],\"type\":\"surface\"}],                        {\"template\":{\"data\":{\"bar\":[{\"error_x\":{\"color\":\"#2a3f5f\"},\"error_y\":{\"color\":\"#2a3f5f\"},\"marker\":{\"line\":{\"color\":\"#E5ECF6\",\"width\":0.5},\"pattern\":{\"fillmode\":\"overlay\",\"size\":10,\"solidity\":0.2}},\"type\":\"bar\"}],\"barpolar\":[{\"marker\":{\"line\":{\"color\":\"#E5ECF6\",\"width\":0.5},\"pattern\":{\"fillmode\":\"overlay\",\"size\":10,\"solidity\":0.2}},\"type\":\"barpolar\"}],\"carpet\":[{\"aaxis\":{\"endlinecolor\":\"#2a3f5f\",\"gridcolor\":\"white\",\"linecolor\":\"white\",\"minorgridcolor\":\"white\",\"startlinecolor\":\"#2a3f5f\"},\"baxis\":{\"endlinecolor\":\"#2a3f5f\",\"gridcolor\":\"white\",\"linecolor\":\"white\",\"minorgridcolor\":\"white\",\"startlinecolor\":\"#2a3f5f\"},\"type\":\"carpet\"}],\"choropleth\":[{\"colorbar\":{\"outlinewidth\":0,\"ticks\":\"\"},\"type\":\"choropleth\"}],\"contour\":[{\"colorbar\":{\"outlinewidth\":0,\"ticks\":\"\"},\"colorscale\":[[0.0,\"#0d0887\"],[0.1111111111111111,\"#46039f\"],[0.2222222222222222,\"#7201a8\"],[0.3333333333333333,\"#9c179e\"],[0.4444444444444444,\"#bd3786\"],[0.5555555555555556,\"#d8576b\"],[0.6666666666666666,\"#ed7953\"],[0.7777777777777778,\"#fb9f3a\"],[0.8888888888888888,\"#fdca26\"],[1.0,\"#f0f921\"]],\"type\":\"contour\"}],\"contourcarpet\":[{\"colorbar\":{\"outlinewidth\":0,\"ticks\":\"\"},\"type\":\"contourcarpet\"}],\"heatmap\":[{\"colorbar\":{\"outlinewidth\":0,\"ticks\":\"\"},\"colorscale\":[[0.0,\"#0d0887\"],[0.1111111111111111,\"#46039f\"],[0.2222222222222222,\"#7201a8\"],[0.3333333333333333,\"#9c179e\"],[0.4444444444444444,\"#bd3786\"],[0.5555555555555556,\"#d8576b\"],[0.6666666666666666,\"#ed7953\"],[0.7777777777777778,\"#fb9f3a\"],[0.8888888888888888,\"#fdca26\"],[1.0,\"#f0f921\"]],\"type\":\"heatmap\"}],\"heatmapgl\":[{\"colorbar\":{\"outlinewidth\":0,\"ticks\":\"\"},\"colorscale\":[[0.0,\"#0d0887\"],[0.1111111111111111,\"#46039f\"],[0.2222222222222222,\"#7201a8\"],[0.3333333333333333,\"#9c179e\"],[0.4444444444444444,\"#bd3786\"],[0.5555555555555556,\"#d8576b\"],[0.6666666666666666,\"#ed7953\"],[0.7777777777777778,\"#fb9f3a\"],[0.8888888888888888,\"#fdca26\"],[1.0,\"#f0f921\"]],\"type\":\"heatmapgl\"}],\"histogram\":[{\"marker\":{\"pattern\":{\"fillmode\":\"overlay\",\"size\":10,\"solidity\":0.2}},\"type\":\"histogram\"}],\"histogram2d\":[{\"colorbar\":{\"outlinewidth\":0,\"ticks\":\"\"},\"colorscale\":[[0.0,\"#0d0887\"],[0.1111111111111111,\"#46039f\"],[0.2222222222222222,\"#7201a8\"],[0.3333333333333333,\"#9c179e\"],[0.4444444444444444,\"#bd3786\"],[0.5555555555555556,\"#d8576b\"],[0.6666666666666666,\"#ed7953\"],[0.7777777777777778,\"#fb9f3a\"],[0.8888888888888888,\"#fdca26\"],[1.0,\"#f0f921\"]],\"type\":\"histogram2d\"}],\"histogram2dcontour\":[{\"colorbar\":{\"outlinewidth\":0,\"ticks\":\"\"},\"colorscale\":[[0.0,\"#0d0887\"],[0.1111111111111111,\"#46039f\"],[0.2222222222222222,\"#7201a8\"],[0.3333333333333333,\"#9c179e\"],[0.4444444444444444,\"#bd3786\"],[0.5555555555555556,\"#d8576b\"],[0.6666666666666666,\"#ed7953\"],[0.7777777777777778,\"#fb9f3a\"],[0.8888888888888888,\"#fdca26\"],[1.0,\"#f0f921\"]],\"type\":\"histogram2dcontour\"}],\"mesh3d\":[{\"colorbar\":{\"outlinewidth\":0,\"ticks\":\"\"},\"type\":\"mesh3d\"}],\"parcoords\":[{\"line\":{\"colorbar\":{\"outlinewidth\":0,\"ticks\":\"\"}},\"type\":\"parcoords\"}],\"pie\":[{\"automargin\":true,\"type\":\"pie\"}],\"scatter\":[{\"marker\":{\"colorbar\":{\"outlinewidth\":0,\"ticks\":\"\"}},\"type\":\"scatter\"}],\"scatter3d\":[{\"line\":{\"colorbar\":{\"outlinewidth\":0,\"ticks\":\"\"}},\"marker\":{\"colorbar\":{\"outlinewidth\":0,\"ticks\":\"\"}},\"type\":\"scatter3d\"}],\"scattercarpet\":[{\"marker\":{\"colorbar\":{\"outlinewidth\":0,\"ticks\":\"\"}},\"type\":\"scattercarpet\"}],\"scattergeo\":[{\"marker\":{\"colorbar\":{\"outlinewidth\":0,\"ticks\":\"\"}},\"type\":\"scattergeo\"}],\"scattergl\":[{\"marker\":{\"colorbar\":{\"outlinewidth\":0,\"ticks\":\"\"}},\"type\":\"scattergl\"}],\"scattermapbox\":[{\"marker\":{\"colorbar\":{\"outlinewidth\":0,\"ticks\":\"\"}},\"type\":\"scattermapbox\"}],\"scatterpolar\":[{\"marker\":{\"colorbar\":{\"outlinewidth\":0,\"ticks\":\"\"}},\"type\":\"scatterpolar\"}],\"scatterpolargl\":[{\"marker\":{\"colorbar\":{\"outlinewidth\":0,\"ticks\":\"\"}},\"type\":\"scatterpolargl\"}],\"scatterternary\":[{\"marker\":{\"colorbar\":{\"outlinewidth\":0,\"ticks\":\"\"}},\"type\":\"scatterternary\"}],\"surface\":[{\"colorbar\":{\"outlinewidth\":0,\"ticks\":\"\"},\"colorscale\":[[0.0,\"#0d0887\"],[0.1111111111111111,\"#46039f\"],[0.2222222222222222,\"#7201a8\"],[0.3333333333333333,\"#9c179e\"],[0.4444444444444444,\"#bd3786\"],[0.5555555555555556,\"#d8576b\"],[0.6666666666666666,\"#ed7953\"],[0.7777777777777778,\"#fb9f3a\"],[0.8888888888888888,\"#fdca26\"],[1.0,\"#f0f921\"]],\"type\":\"surface\"}],\"table\":[{\"cells\":{\"fill\":{\"color\":\"#EBF0F8\"},\"line\":{\"color\":\"white\"}},\"header\":{\"fill\":{\"color\":\"#C8D4E3\"},\"line\":{\"color\":\"white\"}},\"type\":\"table\"}]},\"layout\":{\"annotationdefaults\":{\"arrowcolor\":\"#2a3f5f\",\"arrowhead\":0,\"arrowwidth\":1},\"autotypenumbers\":\"strict\",\"coloraxis\":{\"colorbar\":{\"outlinewidth\":0,\"ticks\":\"\"}},\"colorscale\":{\"diverging\":[[0,\"#8e0152\"],[0.1,\"#c51b7d\"],[0.2,\"#de77ae\"],[0.3,\"#f1b6da\"],[0.4,\"#fde0ef\"],[0.5,\"#f7f7f7\"],[0.6,\"#e6f5d0\"],[0.7,\"#b8e186\"],[0.8,\"#7fbc41\"],[0.9,\"#4d9221\"],[1,\"#276419\"]],\"sequential\":[[0.0,\"#0d0887\"],[0.1111111111111111,\"#46039f\"],[0.2222222222222222,\"#7201a8\"],[0.3333333333333333,\"#9c179e\"],[0.4444444444444444,\"#bd3786\"],[0.5555555555555556,\"#d8576b\"],[0.6666666666666666,\"#ed7953\"],[0.7777777777777778,\"#fb9f3a\"],[0.8888888888888888,\"#fdca26\"],[1.0,\"#f0f921\"]],\"sequentialminus\":[[0.0,\"#0d0887\"],[0.1111111111111111,\"#46039f\"],[0.2222222222222222,\"#7201a8\"],[0.3333333333333333,\"#9c179e\"],[0.4444444444444444,\"#bd3786\"],[0.5555555555555556,\"#d8576b\"],[0.6666666666666666,\"#ed7953\"],[0.7777777777777778,\"#fb9f3a\"],[0.8888888888888888,\"#fdca26\"],[1.0,\"#f0f921\"]]},\"colorway\":[\"#636efa\",\"#EF553B\",\"#00cc96\",\"#ab63fa\",\"#FFA15A\",\"#19d3f3\",\"#FF6692\",\"#B6E880\",\"#FF97FF\",\"#FECB52\"],\"font\":{\"color\":\"#2a3f5f\"},\"geo\":{\"bgcolor\":\"white\",\"lakecolor\":\"white\",\"landcolor\":\"#E5ECF6\",\"showlakes\":true,\"showland\":true,\"subunitcolor\":\"white\"},\"hoverlabel\":{\"align\":\"left\"},\"hovermode\":\"closest\",\"mapbox\":{\"style\":\"light\"},\"paper_bgcolor\":\"white\",\"plot_bgcolor\":\"#E5ECF6\",\"polar\":{\"angularaxis\":{\"gridcolor\":\"white\",\"linecolor\":\"white\",\"ticks\":\"\"},\"bgcolor\":\"#E5ECF6\",\"radialaxis\":{\"gridcolor\":\"white\",\"linecolor\":\"white\",\"ticks\":\"\"}},\"scene\":{\"xaxis\":{\"backgroundcolor\":\"#E5ECF6\",\"gridcolor\":\"white\",\"gridwidth\":2,\"linecolor\":\"white\",\"showbackground\":true,\"ticks\":\"\",\"zerolinecolor\":\"white\"},\"yaxis\":{\"backgroundcolor\":\"#E5ECF6\",\"gridcolor\":\"white\",\"gridwidth\":2,\"linecolor\":\"white\",\"showbackground\":true,\"ticks\":\"\",\"zerolinecolor\":\"white\"},\"zaxis\":{\"backgroundcolor\":\"#E5ECF6\",\"gridcolor\":\"white\",\"gridwidth\":2,\"linecolor\":\"white\",\"showbackground\":true,\"ticks\":\"\",\"zerolinecolor\":\"white\"}},\"shapedefaults\":{\"line\":{\"color\":\"#2a3f5f\"}},\"ternary\":{\"aaxis\":{\"gridcolor\":\"white\",\"linecolor\":\"white\",\"ticks\":\"\"},\"baxis\":{\"gridcolor\":\"white\",\"linecolor\":\"white\",\"ticks\":\"\"},\"bgcolor\":\"#E5ECF6\",\"caxis\":{\"gridcolor\":\"white\",\"linecolor\":\"white\",\"ticks\":\"\"}},\"title\":{\"x\":0.05},\"xaxis\":{\"automargin\":true,\"gridcolor\":\"white\",\"linecolor\":\"white\",\"ticks\":\"\",\"title\":{\"standoff\":15},\"zerolinecolor\":\"white\",\"zerolinewidth\":2},\"yaxis\":{\"automargin\":true,\"gridcolor\":\"white\",\"linecolor\":\"white\",\"ticks\":\"\",\"title\":{\"standoff\":15},\"zerolinecolor\":\"white\",\"zerolinewidth\":2}}},\"margin\":{\"r\":5,\"b\":50,\"l\":5,\"t\":30},\"title\":{\"text\":\"mpi4py\"},\"scene\":{\"xaxis\":{\"title\":{\"text\":\"Size\"},\"tickvals\":[8,9,10,11],\"ticktext\":[256,512,1024,2048]},\"yaxis\":{\"title\":{\"text\":\"Node_count\"},\"tickvals\":[0,1,2],\"ticktext\":[1,2,4]},\"zaxis\":{\"title\":{\"text\":\"Acceleration\"}}},\"width\":800,\"height\":400},                        {\"responsive\": true}                    ).then(function(){\n",
       "                            \n",
       "var gd = document.getElementById('ad935f7d-7784-4b57-b4b7-dec0518a02fb');\n",
       "var x = new MutationObserver(function (mutations, observer) {{\n",
       "        var display = window.getComputedStyle(gd).display;\n",
       "        if (!display || display === 'none') {{\n",
       "            console.log([gd, 'removed!']);\n",
       "            Plotly.purge(gd);\n",
       "            observer.disconnect();\n",
       "        }}\n",
       "}});\n",
       "\n",
       "// Listen for the removal of the full notebook cells\n",
       "var notebookContainer = gd.closest('#notebook-container');\n",
       "if (notebookContainer) {{\n",
       "    x.observe(notebookContainer, {childList: true});\n",
       "}}\n",
       "\n",
       "// Listen for the clearing of the current output cell\n",
       "var outputEl = gd.closest('.output');\n",
       "if (outputEl) {{\n",
       "    x.observe(outputEl, {childList: true});\n",
       "}}\n",
       "\n",
       "                        })                };                });            </script>        </div>"
      ]
     },
     "metadata": {},
     "output_type": "display_data"
    }
   ],
   "source": [
    "sizes = np.array([256, 512, 1024, 2048])\n",
    "proc_counts = np.array([2**x for x in range(3)])\n",
    "\n",
    "log2_sizes = [int(np.log2(size)) for size in sizes]\n",
    "log2_proc_counts = [int(np.log2(proc_count)) for proc_count in proc_counts]\n",
    "\n",
    "fig = go.Figure(go.Surface(\n",
    "    contours = {\n",
    "        \"z\": {\"show\": True, \"start\": 0.0, \"end\": 2, \"size\": 0.1, 'color':'white'}\n",
    "    },\n",
    "    x = log2_sizes,\n",
    "    y = log2_proc_counts,\n",
    "    z = mpi_res2.T))\n",
    "\n",
    "fig.update_layout(\n",
    "    title='mpi4py',\n",
    "    scene = dict(\n",
    "        xaxis_title=r'Size',\n",
    "        yaxis_title='Node_count',\n",
    "        zaxis_title='Acceleration'),\n",
    "        margin=dict(r=5, b=50, l=5, t=30))\n",
    "\n",
    "fig.update_layout(\n",
    "    width=800, height=400,\n",
    "    scene = dict(\n",
    "        xaxis = dict(tickvals=log2_sizes, ticktext=sizes),\n",
    "        yaxis = dict(tickvals=log2_proc_counts, ticktext=proc_counts))\n",
    ")\n",
    "\n",
    "fig.show()"
   ]
  },
  {
   "cell_type": "code",
   "execution_count": null,
   "id": "68b4eee1",
   "metadata": {},
   "outputs": [],
   "source": []
  },
  {
   "cell_type": "code",
   "execution_count": null,
   "id": "cc710a2d",
   "metadata": {},
   "outputs": [],
   "source": []
  },
  {
   "cell_type": "code",
   "execution_count": null,
   "id": "48b633f0",
   "metadata": {},
   "outputs": [],
   "source": []
  },
  {
   "cell_type": "code",
   "execution_count": null,
   "id": "5194b769",
   "metadata": {},
   "outputs": [],
   "source": []
  },
  {
   "cell_type": "code",
   "execution_count": null,
   "id": "cfe97f04",
   "metadata": {},
   "outputs": [],
   "source": []
  },
  {
   "cell_type": "code",
   "execution_count": null,
   "id": "19c3058c",
   "metadata": {},
   "outputs": [],
   "source": []
  },
  {
   "cell_type": "code",
   "execution_count": 3,
   "id": "b753190f",
   "metadata": {},
   "outputs": [],
   "source": [
    "def qr_mp(a, proc_count):\n",
    "    b_size = 2\n",
    "    m, n = a.shape\n",
    "    \n",
    "    q_shared = mp.Array(ctypes.c_double, m*n, lock=False)\n",
    "    r_shared = mp.Array(ctypes.c_double, m*n, lock=False)\n",
    "    q = np.frombuffer(q_shared, dtype=np.float64).reshape(m, n)\n",
    "    r = np.frombuffer(r_shared, dtype=np.float64).reshape(m, n)\n",
    "    for i in range(m):\n",
    "        r[i] = a[i]\n",
    "\n",
    "    queue = mp.JoinableQueue()\n",
    "    workers = []\n",
    "    for i in range(proc_count):\n",
    "        worker = mp.Process(target = upd_row,\n",
    "                            args = (r, q, r.shape, b_size, queue)) ##\n",
    "        workers.append(worker)\n",
    "        worker.start()\n",
    "    \n",
    "    for j in range(0, n, b_size):\n",
    "        for i in range(j, m, b_size): # обнуление\n",
    "            for jj in range(b_size):\n",
    "                for ii in range(b_size):\n",
    "                    row = i + ii\n",
    "                    col = j + jj\n",
    "                    if row > col:\n",
    "                        r0, r1 = r[col, col], r[row, col]\n",
    "                        c, s = scipy.linalg.blas.drotg(r0, r1)\n",
    "                        scipy.linalg.blas.drot(r[col, col:j+b_size], r[row, col:j+b_size], c, s, overwrite_x=1, overwrite_y=1)\n",
    "                        q[row, col] = c\n",
    "                        q[col, row] = -s\n",
    "        \n",
    "        for j1 in range(1, (n-j)//b_size): # обновление\n",
    "            queue.put((j, j1))\n",
    "        queue.join()\n",
    "                                \n",
    "    for i in range(proc_count):\n",
    "        queue.put(None)\n",
    "    queue.join()\n",
    "\n",
    "    return np.asarray(q), r[:r.shape[1]]\n",
    "\n",
    "def upd_row(r_shared, q_shared, shape, b_size, queue):\n",
    "    m, n = shape\n",
    "    r = np.frombuffer(r_shared, dtype=np.float64).reshape(m, n)\n",
    "    q = np.frombuffer(q_shared, dtype=np.float64).reshape(m, n)\n",
    "    while True:\n",
    "        job = queue.get()\n",
    "        if job is None:\n",
    "            break\n",
    "        j, j1 = job\n",
    "        for i in range(j, m, b_size):\n",
    "            for jj in range(b_size):\n",
    "                for ii in range(b_size):\n",
    "                    row = i + ii\n",
    "                    col = j + jj\n",
    "                    if row > col:\n",
    "                        c =  q[row, col]\n",
    "                        s = -q[col, row]\n",
    "                        j2 = j + j1*b_size\n",
    "                        scipy.linalg.blas.drot(r[col, j2:j2+b_size], r[row, j2:j2+b_size], c, s, overwrite_x=1, overwrite_y=1)\n",
    "        queue.task_done()\n",
    "    queue.task_done()\n",
    "    \n",
    "@numba.njit(parallel=True)\n",
    "def qr_nb(a, proc_count):\n",
    "    b_size = 2\n",
    "    numba.set_num_threads(proc_count)\n",
    "    r = np.copy(a)\n",
    "    q = np.zeros(r.shape)\n",
    "    m, n = a.shape\n",
    "    for j in range(0, n, b_size):\n",
    "        for i in range(j, m, b_size): # обнуление\n",
    "            for jj in range(b_size):\n",
    "                for ii in range(b_size):\n",
    "                    row = i + ii\n",
    "                    col = j + jj\n",
    "                    if row > col:\n",
    "                        r0, r1 = r[col, col], r[row, col]\n",
    "                        sigma = np.sign(r0) if abs(r0) > abs(r1) else np.sign(r1)\n",
    "                        den = sigma * np.sqrt(r0**2 + r1**2)\n",
    "                        c = r0 / den\n",
    "                        s = r1 / den\n",
    "                        q[row, col] = c\n",
    "                        q[col, row] = -s\n",
    "                        if (row == 2 and col == 1):\n",
    "                            print(r0, r1, c, s, sigma, 'ff')\n",
    "                        for k in range(col, j+b_size):\n",
    "                            r0k =  r[col, k] * c + r[row, k] * s\n",
    "                            r1k = -r[col, k] * s + r[row, k] * c\n",
    "                            r[col, k] = r0k\n",
    "                            r[row, k] = r1k\n",
    "\n",
    "        for j1 in numba.prange(1, (n-j)//b_size): # обновление\n",
    "            for i in range(j, m, b_size):\n",
    "                for jj in range(b_size):\n",
    "                    for ii in range(b_size):\n",
    "                        row = i + ii\n",
    "                        col = j + jj\n",
    "                        if row > col:\n",
    "                            c =  q[row, col]\n",
    "                            s = -q[col, row]\n",
    "                            j2 = j + j1*b_size\n",
    "                            for k in range(j2, j2 + b_size):\n",
    "                                r0k =  r[col, k] * c + r[row, k] * s\n",
    "                                r1k = -r[col, k] * s + r[row, k] * c\n",
    "                                r[col, k] = r0k\n",
    "                                r[row, k] = r1k\n",
    "\n",
    "    return np.asarray(q), r[:r.shape[1]]"
   ]
  },
  {
   "cell_type": "code",
   "execution_count": 4,
   "id": "365cebdc",
   "metadata": {},
   "outputs": [],
   "source": [
    "def pm(a):\n",
    "    m, n = a.shape\n",
    "    for i in range(m):\n",
    "        for j in range(n):\n",
    "            print('%8.4f'%a[i, j], end=' ')\n",
    "        print()\n",
    "    print('-'*50)"
   ]
  },
  {
   "cell_type": "code",
   "execution_count": 5,
   "id": "a72262f4",
   "metadata": {},
   "outputs": [],
   "source": [
    "s = '''3.8300   8.8600   7.7700   9.1500   7.9300   3.3500   3.8600   4.9200\n",
    "6.4900   4.2100   3.6200   0.2700   6.9000   0.5900   7.6300   9.2600\n",
    "5.4000   4.2600   1.7200   7.3600   2.1100   3.6800   5.6700   4.2900\n",
    "7.8200   5.3000   8.6200   1.2300   0.6700   1.3500   9.2900   8.0200\n",
    "0.2200   0.5800   0.6900   1.6700   3.9300   4.5600   0.1100   0.4200\n",
    "2.2900   3.7300   4.2100   9.1900   7.8400   5.3700   1.9800   3.2400\n",
    "3.1500   3.7000   4.1300   5.2600   0.9100   9.8000   9.5600   8.7300\n",
    "8.6200   1.7000   9.9600   2.8100   3.0500   9.2500   0.8400   3.2700'''"
   ]
  },
  {
   "cell_type": "code",
   "execution_count": 6,
   "id": "1b69fd9e",
   "metadata": {},
   "outputs": [
    {
     "data": {
      "text/plain": [
       "array([[3.83, 8.86, 7.77, 9.15, 7.93, 3.35, 3.86, 4.92],\n",
       "       [6.49, 4.21, 3.62, 0.27, 6.9 , 0.59, 7.63, 9.26],\n",
       "       [5.4 , 4.26, 1.72, 7.36, 2.11, 3.68, 5.67, 4.29],\n",
       "       [7.82, 5.3 , 8.62, 1.23, 0.67, 1.35, 9.29, 8.02],\n",
       "       [0.22, 0.58, 0.69, 1.67, 3.93, 4.56, 0.11, 0.42],\n",
       "       [2.29, 3.73, 4.21, 9.19, 7.84, 5.37, 1.98, 3.24],\n",
       "       [3.15, 3.7 , 4.13, 5.26, 0.91, 9.8 , 9.56, 8.73],\n",
       "       [8.62, 1.7 , 9.96, 2.81, 3.05, 9.25, 0.84, 3.27]])"
      ]
     },
     "execution_count": 6,
     "metadata": {},
     "output_type": "execute_result"
    }
   ],
   "source": [
    "a = np.empty((8,8))\n",
    "for i,line in enumerate(s.split('\\n')):\n",
    "    a[i] = np.array(list(map(float, line.split())))\n",
    "a"
   ]
  },
  {
   "cell_type": "code",
   "execution_count": 9,
   "id": "2088d269",
   "metadata": {},
   "outputs": [
    {
     "name": "stdout",
     "output_type": "stream",
     "text": [
      "-5.4907028180963735 -1.2719745327413072 0.9742007796465008 0.22568305416258008 -1.0 ff\n"
     ]
    }
   ],
   "source": [
    "q, r = qr_nb(a, 2)"
   ]
  },
  {
   "cell_type": "code",
   "execution_count": 10,
   "id": "9b828370",
   "metadata": {},
   "outputs": [
    {
     "name": "stdout",
     "output_type": "stream",
     "text": [
      "  0.0000  -0.8612  -0.5825  -0.6448  -0.0181  -0.1855  -0.2472  -0.5604 \n",
      "  0.5082   0.0000  -0.2257  -0.3056   0.0661   0.2816   0.1431  -0.6260 \n",
      "  0.8129   0.9742   0.0000  -0.9244  -0.0500  -0.1960  -0.1186  -0.7169 \n",
      "  0.7644   0.9522  -0.3814   0.0000   0.3139  -0.8332  -0.2525  -0.5262 \n",
      "  0.9998   0.9978   0.9988   0.9495   0.0000  -0.7412  -0.3537   0.2170 \n",
      "  0.9826   0.9595   0.9806  -0.5530  -0.6713   0.0000  -0.9092   0.0020 \n",
      "  0.9690   0.9897   0.9929   0.9676   0.9354  -0.4165   0.0000  -0.8864 \n",
      "  0.8282   0.7798   0.6972   0.8503   0.9762   1.0000   0.4628   0.0000 \n",
      "--------------------------------------------------\n",
      " 15.3825  10.4460  15.5116   9.6449   9.0858  11.1162  13.6182  14.8235 \n",
      " -0.0000  -8.0108  -2.9184  -9.8385  -7.1171  -1.6899  -5.2064  -4.8310 \n",
      "  0.0000   0.0000   6.0060   1.0935   0.6906   4.5169  -3.7842  -2.2011 \n",
      "  0.0000   0.0000   0.0000   8.4422   2.8829   7.7330  -1.9982  -1.6053 \n",
      "  0.0000   0.0000   0.0000   0.0000  -7.7746   0.2548   3.0549   0.0789 \n",
      "  0.0000   0.0000   0.0000  -0.0000   0.0000   7.1748   4.8807   4.6087 \n",
      "  0.0000   0.0000   0.0000  -0.0000   0.0000   0.0000  -4.8552  -4.0882 \n",
      "  0.0000  -0.0000   0.0000   0.0000   0.0000  -0.0000   0.0000   1.3424 \n",
      "--------------------------------------------------\n"
     ]
    }
   ],
   "source": [
    "pm(q)\n",
    "pm(r)"
   ]
  },
  {
   "cell_type": "code",
   "execution_count": null,
   "id": "7f9ce4f5",
   "metadata": {},
   "outputs": [],
   "source": []
  }
 ],
 "metadata": {
  "kernelspec": {
   "display_name": "Python 3 (ipykernel)",
   "language": "python",
   "name": "python3"
  },
  "language_info": {
   "codemirror_mode": {
    "name": "ipython",
    "version": 3
   },
   "file_extension": ".py",
   "mimetype": "text/x-python",
   "name": "python",
   "nbconvert_exporter": "python",
   "pygments_lexer": "ipython3",
   "version": "3.9.7"
  },
  "varInspector": {
   "cols": {
    "lenName": 16,
    "lenType": 16,
    "lenVar": 40
   },
   "kernels_config": {
    "python": {
     "delete_cmd_postfix": "",
     "delete_cmd_prefix": "del ",
     "library": "var_list.py",
     "varRefreshCmd": "print(var_dic_list())"
    },
    "r": {
     "delete_cmd_postfix": ") ",
     "delete_cmd_prefix": "rm(",
     "library": "var_list.r",
     "varRefreshCmd": "cat(var_dic_list()) "
    }
   },
   "types_to_exclude": [
    "module",
    "function",
    "builtin_function_or_method",
    "instance",
    "_Feature"
   ],
   "window_display": false
  }
 },
 "nbformat": 4,
 "nbformat_minor": 5
}
